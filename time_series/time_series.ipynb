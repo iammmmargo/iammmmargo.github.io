{
 "cells": [
  {
   "cell_type": "markdown",
   "metadata": {
    "toc": true
   },
   "source": [
    "<h1>Содержание<span class=\"tocSkip\"></span></h1>\n",
    "<div class=\"toc\"><ul class=\"toc-item\"><li><span><a href=\"#Подготовка\" data-toc-modified-id=\"Подготовка-1\"><span class=\"toc-item-num\">1&nbsp;&nbsp;</span>Подготовка</a></span></li><li><span><a href=\"#Анализ\" data-toc-modified-id=\"Анализ-2\"><span class=\"toc-item-num\">2&nbsp;&nbsp;</span>Анализ</a></span></li><li><span><a href=\"#Обучение\" data-toc-modified-id=\"Обучение-3\"><span class=\"toc-item-num\">3&nbsp;&nbsp;</span>Обучение</a></span></li><li><span><a href=\"#Тестирование\" data-toc-modified-id=\"Тестирование-4\"><span class=\"toc-item-num\">4&nbsp;&nbsp;</span>Тестирование</a></span></li><li><span><a href=\"#Выводы\" data-toc-modified-id=\"Выводы-5\"><span class=\"toc-item-num\">5&nbsp;&nbsp;</span>Выводы</a></span></li></ul></div>"
   ]
  },
  {
   "cell_type": "markdown",
   "metadata": {},
   "source": [
    "#  Прогнозирование заказов такси"
   ]
  },
  {
   "cell_type": "markdown",
   "metadata": {},
   "source": [
    "Компания «Чётенькое такси» собрала исторические данные о заказах такси в аэропортах. Чтобы привлекать больше водителей в период пиковой нагрузки, нужно спрогнозировать количество заказов такси на следующий час. Построим модель для такого предсказания.\n",
    "\n",
    "Значение метрики *RMSE* на тестовой выборке должно быть не больше 48.\n",
    "\n",
    "**Нам нужно:**\n",
    "1. Загрузить данные и выполнить их ресемплирование по одному часу.\n",
    "2. Проанализировать данные.\n",
    "3. Обучить разные модели с различными гиперпараметрами. Сделать тестовую выборку размером 10% от исходных данных.\n",
    "4. Проверить данные на тестовой выборке и сделать выводы.\n",
    "\n",
    "**Описание данных:**\n",
    "Данные лежат в файле `taxi.csv`. Количество заказов находится в столбце `num_orders` (от англ. *number of orders*, «число заказов»).\n",
    "\n",
    "**Ход исследования:**\n",
    "1. Загрузка и предобработка данных. Загрузим данные и выполним их ресемплирование по одному часу.\n",
    "2. Анализ данных. Исследуем все признаки и сделаем выводы о том, как их нужно подготовить.\n",
    "3. Обучение моделей. Обучим разные модели с различными гиперпараметрами. Сделаем тестовую выборку размером 10% от исходных данных. Выберем лучшую модель на основе метрики RMSE.\n",
    "4. Тестирование. Проверим данные на тестовой выборе и сделаем выводы. Учтем, что значение метрики *RMSE* на тестовой выборке должно быть не больше 48.\n",
    "5. Выводы."
   ]
  },
  {
   "cell_type": "markdown",
   "metadata": {},
   "source": [
    "## Подготовка"
   ]
  },
  {
   "cell_type": "markdown",
   "metadata": {},
   "source": [
    "Выполним загрузку библиотек."
   ]
  },
  {
   "cell_type": "code",
   "execution_count": 1,
   "metadata": {
    "scrolled": true
   },
   "outputs": [
    {
     "name": "stdout",
     "output_type": "stream",
     "text": [
      "Requirement already satisfied: scikit-learn==1.4.0 in /opt/conda/lib/python3.9/site-packages (1.4.0)\n",
      "Requirement already satisfied: numpy<2.0,>=1.19.5 in /opt/conda/lib/python3.9/site-packages (from scikit-learn==1.4.0) (1.21.1)\n",
      "Requirement already satisfied: joblib>=1.2.0 in /opt/conda/lib/python3.9/site-packages (from scikit-learn==1.4.0) (1.4.2)\n",
      "Requirement already satisfied: threadpoolctl>=2.0.0 in /opt/conda/lib/python3.9/site-packages (from scikit-learn==1.4.0) (3.1.0)\n",
      "Requirement already satisfied: scipy>=1.6.0 in /opt/conda/lib/python3.9/site-packages (from scikit-learn==1.4.0) (1.9.1)\n",
      "Requirement already satisfied: shap in /opt/conda/lib/python3.9/site-packages (0.46.0)\n",
      "Requirement already satisfied: pandas in /opt/conda/lib/python3.9/site-packages (from shap) (1.2.4)\n",
      "Requirement already satisfied: tqdm>=4.27.0 in /opt/conda/lib/python3.9/site-packages (from shap) (4.61.2)\n",
      "Requirement already satisfied: numba in /opt/conda/lib/python3.9/site-packages (from shap) (0.56.0)\n",
      "Requirement already satisfied: cloudpickle in /opt/conda/lib/python3.9/site-packages (from shap) (3.0.0)\n",
      "Requirement already satisfied: slicer==0.0.8 in /opt/conda/lib/python3.9/site-packages (from shap) (0.0.8)\n",
      "Requirement already satisfied: scikit-learn in /opt/conda/lib/python3.9/site-packages (from shap) (1.4.0)\n",
      "Requirement already satisfied: numpy in /opt/conda/lib/python3.9/site-packages (from shap) (1.21.1)\n",
      "Requirement already satisfied: scipy in /opt/conda/lib/python3.9/site-packages (from shap) (1.9.1)\n",
      "Requirement already satisfied: packaging>20.9 in /opt/conda/lib/python3.9/site-packages (from shap) (21.3)\n",
      "Requirement already satisfied: pyparsing!=3.0.5,>=2.0.2 in /opt/conda/lib/python3.9/site-packages (from packaging>20.9->shap) (2.4.7)\n",
      "Requirement already satisfied: setuptools in /opt/conda/lib/python3.9/site-packages (from numba->shap) (49.6.0.post20210108)\n",
      "Requirement already satisfied: llvmlite<0.40,>=0.39.0dev0 in /opt/conda/lib/python3.9/site-packages (from numba->shap) (0.39.0)\n",
      "Requirement already satisfied: python-dateutil>=2.7.3 in /opt/conda/lib/python3.9/site-packages (from pandas->shap) (2.8.1)\n",
      "Requirement already satisfied: pytz>=2017.3 in /opt/conda/lib/python3.9/site-packages (from pandas->shap) (2021.1)\n",
      "Requirement already satisfied: six>=1.5 in /opt/conda/lib/python3.9/site-packages (from python-dateutil>=2.7.3->pandas->shap) (1.16.0)\n",
      "Requirement already satisfied: joblib>=1.2.0 in /opt/conda/lib/python3.9/site-packages (from scikit-learn->shap) (1.4.2)\n",
      "Requirement already satisfied: threadpoolctl>=2.0.0 in /opt/conda/lib/python3.9/site-packages (from scikit-learn->shap) (3.1.0)\n",
      "Requirement already satisfied: missingno in /opt/conda/lib/python3.9/site-packages (0.5.2)\n",
      "Requirement already satisfied: matplotlib in /opt/conda/lib/python3.9/site-packages (from missingno) (3.3.4)\n",
      "Requirement already satisfied: seaborn in /opt/conda/lib/python3.9/site-packages (from missingno) (0.11.1)\n",
      "Requirement already satisfied: scipy in /opt/conda/lib/python3.9/site-packages (from missingno) (1.9.1)\n",
      "Requirement already satisfied: numpy in /opt/conda/lib/python3.9/site-packages (from missingno) (1.21.1)\n",
      "Requirement already satisfied: kiwisolver>=1.0.1 in /opt/conda/lib/python3.9/site-packages (from matplotlib->missingno) (1.4.4)\n",
      "Requirement already satisfied: python-dateutil>=2.1 in /opt/conda/lib/python3.9/site-packages (from matplotlib->missingno) (2.8.1)\n",
      "Requirement already satisfied: cycler>=0.10 in /opt/conda/lib/python3.9/site-packages (from matplotlib->missingno) (0.11.0)\n",
      "Requirement already satisfied: pillow>=6.2.0 in /opt/conda/lib/python3.9/site-packages (from matplotlib->missingno) (8.4.0)\n",
      "Requirement already satisfied: pyparsing!=2.0.4,!=2.1.2,!=2.1.6,>=2.0.3 in /opt/conda/lib/python3.9/site-packages (from matplotlib->missingno) (2.4.7)\n",
      "Requirement already satisfied: six>=1.5 in /opt/conda/lib/python3.9/site-packages (from python-dateutil>=2.1->matplotlib->missingno) (1.16.0)\n",
      "Requirement already satisfied: pandas>=0.23 in /opt/conda/lib/python3.9/site-packages (from seaborn->missingno) (1.2.4)\n",
      "Requirement already satisfied: pytz>=2017.3 in /opt/conda/lib/python3.9/site-packages (from pandas>=0.23->seaborn->missingno) (2021.1)\n"
     ]
    }
   ],
   "source": [
    "#установим библиотеки\n",
    "!pip install scikit-learn==1.4.0\n",
    "!pip install shap \n",
    "!pip install phik -q\n",
    "!pip install missingno\n",
    "\n",
    "#стандартные библиотеки\n",
    "import os\n",
    "import pandas as pd \n",
    "import numpy as np\n",
    "from scipy import stats as st\n",
    "import time\n",
    "from time import time\n",
    "\n",
    "#библиотеки для построения графиков\n",
    "import seaborn as sns\n",
    "import matplotlib.pyplot as plt\n",
    "import warnings\n",
    "import missingno as msno\n",
    "\n",
    "import phik\n",
    "\n",
    "#класс для разделения на выборки\n",
    "from sklearn.model_selection import train_test_split \n",
    "\n",
    "#загружаем классы для подготовки данных\n",
    "#from sklearn.preprocessing import OneHotEncoder, PolynomialFeatures, OrdinalEncoder, LabelEncoder\n",
    "from sklearn.preprocessing import StandardScaler, MinMaxScaler, RobustScaler\n",
    "from sklearn.compose import ColumnTransformer\n",
    "\n",
    "#загружаем класс pipeline\n",
    "from sklearn.pipeline import Pipeline\n",
    "\n",
    "# загружаем класс для работы с пропусками\n",
    "#from sklearn.impute import SimpleImputer\n",
    "\n",
    "# загружаем функции для работы с метриками\n",
    "from sklearn.metrics import make_scorer, root_mean_squared_error\n",
    "from sklearn.metrics import confusion_matrix\n",
    "\n",
    "#импортируем класс RandomizedSearchCV\n",
    "from sklearn.model_selection import RandomizedSearchCV, TimeSeriesSplit\n",
    "\n",
    "#from sklearn.model_selection import GridSearchCV\n",
    "\n",
    "#загружаем модели\n",
    "from sklearn.linear_model import LinearRegression, Ridge, Lasso\n",
    "from sklearn.tree import DecisionTreeRegressor\n",
    "from catboost import CatBoostRegressor\n",
    "from lightgbm import LGBMRegressor\n",
    "from sklearn.ensemble import RandomForestRegressor\n",
    "from sklearn.svm import SVR\n",
    "\n",
    "#функция для анализа временного ряда\n",
    "from statsmodels.tsa.seasonal import seasonal_decompose\n",
    "\n",
    "#константы\n",
    "RANDOM_STATE = 42"
   ]
  },
  {
   "cell_type": "markdown",
   "metadata": {},
   "source": [
    "Считаем CSV-файл с данными с помощью библиотеки pandas и сохраним его в датафрейм. Установим столбец `datetime` индексом таблицы."
   ]
  },
  {
   "cell_type": "code",
   "execution_count": 2,
   "metadata": {},
   "outputs": [],
   "source": [
    "pth1=['/Users/margarita/Desktop/datasets/taxi.csv']\n",
    "pth2=['/datasets/taxi.csv']\n",
    "\n",
    "if os.path.exists(pth1[0]):\n",
    "    taxi_data = pd.read_csv(pth1[0], parse_dates=[0], index_col=[0])\n",
    "elif os.path.exists(pth2[0]):\n",
    "    taxi_data = pd.read_csv(pth2[0], parse_dates=[0], index_col=[0])\n",
    "else:\n",
    "    print('Something is wrong in taxi')"
   ]
  },
  {
   "cell_type": "code",
   "execution_count": 3,
   "metadata": {},
   "outputs": [
    {
     "name": "stdout",
     "output_type": "stream",
     "text": [
      "Вывод первых пяти строк датафрейма:\n",
      "\n"
     ]
    },
    {
     "data": {
      "text/html": [
       "<div>\n",
       "<style scoped>\n",
       "    .dataframe tbody tr th:only-of-type {\n",
       "        vertical-align: middle;\n",
       "    }\n",
       "\n",
       "    .dataframe tbody tr th {\n",
       "        vertical-align: top;\n",
       "    }\n",
       "\n",
       "    .dataframe thead th {\n",
       "        text-align: right;\n",
       "    }\n",
       "</style>\n",
       "<table border=\"1\" class=\"dataframe\">\n",
       "  <thead>\n",
       "    <tr style=\"text-align: right;\">\n",
       "      <th></th>\n",
       "      <th>num_orders</th>\n",
       "    </tr>\n",
       "    <tr>\n",
       "      <th>datetime</th>\n",
       "      <th></th>\n",
       "    </tr>\n",
       "  </thead>\n",
       "  <tbody>\n",
       "    <tr>\n",
       "      <th>2018-03-01 00:00:00</th>\n",
       "      <td>9</td>\n",
       "    </tr>\n",
       "    <tr>\n",
       "      <th>2018-03-01 00:10:00</th>\n",
       "      <td>14</td>\n",
       "    </tr>\n",
       "    <tr>\n",
       "      <th>2018-03-01 00:20:00</th>\n",
       "      <td>28</td>\n",
       "    </tr>\n",
       "    <tr>\n",
       "      <th>2018-03-01 00:30:00</th>\n",
       "      <td>20</td>\n",
       "    </tr>\n",
       "    <tr>\n",
       "      <th>2018-03-01 00:40:00</th>\n",
       "      <td>32</td>\n",
       "    </tr>\n",
       "  </tbody>\n",
       "</table>\n",
       "</div>"
      ],
      "text/plain": [
       "                     num_orders\n",
       "datetime                       \n",
       "2018-03-01 00:00:00           9\n",
       "2018-03-01 00:10:00          14\n",
       "2018-03-01 00:20:00          28\n",
       "2018-03-01 00:30:00          20\n",
       "2018-03-01 00:40:00          32"
      ]
     },
     "execution_count": 3,
     "metadata": {},
     "output_type": "execute_result"
    }
   ],
   "source": [
    "print('Вывод первых пяти строк датафрейма:\\n')\n",
    "taxi_data.head(5)"
   ]
  },
  {
   "cell_type": "code",
   "execution_count": 4,
   "metadata": {},
   "outputs": [
    {
     "name": "stdout",
     "output_type": "stream",
     "text": [
      "Размер датафрейма:\n"
     ]
    },
    {
     "data": {
      "text/plain": [
       "(26496, 1)"
      ]
     },
     "execution_count": 4,
     "metadata": {},
     "output_type": "execute_result"
    }
   ],
   "source": [
    "print('Размер датафрейма:')\n",
    "taxi_data.shape"
   ]
  },
  {
   "cell_type": "code",
   "execution_count": 5,
   "metadata": {},
   "outputs": [
    {
     "name": "stdout",
     "output_type": "stream",
     "text": [
      "Общая информация:\n",
      "<class 'pandas.core.frame.DataFrame'>\n",
      "DatetimeIndex: 26496 entries, 2018-03-01 00:00:00 to 2018-08-31 23:50:00\n",
      "Data columns (total 1 columns):\n",
      " #   Column      Non-Null Count  Dtype\n",
      "---  ------      --------------  -----\n",
      " 0   num_orders  26496 non-null  int64\n",
      "dtypes: int64(1)\n",
      "memory usage: 414.0 KB\n"
     ]
    }
   ],
   "source": [
    "print('Общая информация:')\n",
    "taxi_data.info()"
   ]
  },
  {
   "cell_type": "code",
   "execution_count": 6,
   "metadata": {},
   "outputs": [
    {
     "name": "stdout",
     "output_type": "stream",
     "text": [
      "Проверка на наличие пропусков\n"
     ]
    },
    {
     "data": {
      "text/plain": [
       "num_orders    0\n",
       "dtype: int64"
      ]
     },
     "execution_count": 6,
     "metadata": {},
     "output_type": "execute_result"
    }
   ],
   "source": [
    "print('Проверка на наличие пропусков')\n",
    "taxi_data.isna().sum()"
   ]
  },
  {
   "cell_type": "markdown",
   "metadata": {},
   "source": [
    "Выполним проверку хронологичности дат."
   ]
  },
  {
   "cell_type": "code",
   "execution_count": 7,
   "metadata": {},
   "outputs": [
    {
     "name": "stdout",
     "output_type": "stream",
     "text": [
      "True\n"
     ]
    }
   ],
   "source": [
    "print(taxi_data.index.is_monotonic_increasing)"
   ]
  },
  {
   "cell_type": "markdown",
   "metadata": {},
   "source": [
    "Проверим, за какой период представлены данные."
   ]
  },
  {
   "cell_type": "code",
   "execution_count": 8,
   "metadata": {},
   "outputs": [
    {
     "name": "stdout",
     "output_type": "stream",
     "text": [
      "В датасете представлена информация за период: с 2018-03-01 00:00:00 по 2018-08-31 23:50:00\n"
     ]
    }
   ],
   "source": [
    "print('В датасете представлена информация за период: с', taxi_data.index.min(), 'по', taxi_data.index.max())"
   ]
  },
  {
   "cell_type": "markdown",
   "metadata": {},
   "source": [
    "Даты расположены в хронолическом порядке. Далле выполним ресемплирование данных по одному часу."
   ]
  },
  {
   "cell_type": "code",
   "execution_count": 9,
   "metadata": {},
   "outputs": [],
   "source": [
    "taxi_data = taxi_data.resample('1H').sum()"
   ]
  },
  {
   "cell_type": "markdown",
   "metadata": {},
   "source": [
    "**Выводы:**\n",
    "- Была выполнена загрузка данных. В данных содержится 26496 записей о времени и количестве заказов `num_orders`. Пропуски в данных отсутствуют. Время было установлено индексом таблицы. Данные расположены в хронологическом порядке. В датасете представлена информация за период: с 2018-03-01 00:00:00 по 2018-08-31 23:00:00.\n",
    "- Далее было выполнено ресемплирование данных по одному часу."
   ]
  },
  {
   "cell_type": "markdown",
   "metadata": {},
   "source": [
    "## Анализ"
   ]
  },
  {
   "cell_type": "code",
   "execution_count": 10,
   "metadata": {},
   "outputs": [
    {
     "data": {
      "text/html": [
       "<div>\n",
       "<style scoped>\n",
       "    .dataframe tbody tr th:only-of-type {\n",
       "        vertical-align: middle;\n",
       "    }\n",
       "\n",
       "    .dataframe tbody tr th {\n",
       "        vertical-align: top;\n",
       "    }\n",
       "\n",
       "    .dataframe thead th {\n",
       "        text-align: right;\n",
       "    }\n",
       "</style>\n",
       "<table border=\"1\" class=\"dataframe\">\n",
       "  <thead>\n",
       "    <tr style=\"text-align: right;\">\n",
       "      <th></th>\n",
       "      <th>num_orders</th>\n",
       "    </tr>\n",
       "  </thead>\n",
       "  <tbody>\n",
       "    <tr>\n",
       "      <th>count</th>\n",
       "      <td>4416.000000</td>\n",
       "    </tr>\n",
       "    <tr>\n",
       "      <th>mean</th>\n",
       "      <td>84.422781</td>\n",
       "    </tr>\n",
       "    <tr>\n",
       "      <th>std</th>\n",
       "      <td>45.023853</td>\n",
       "    </tr>\n",
       "    <tr>\n",
       "      <th>min</th>\n",
       "      <td>0.000000</td>\n",
       "    </tr>\n",
       "    <tr>\n",
       "      <th>25%</th>\n",
       "      <td>54.000000</td>\n",
       "    </tr>\n",
       "    <tr>\n",
       "      <th>50%</th>\n",
       "      <td>78.000000</td>\n",
       "    </tr>\n",
       "    <tr>\n",
       "      <th>75%</th>\n",
       "      <td>107.000000</td>\n",
       "    </tr>\n",
       "    <tr>\n",
       "      <th>max</th>\n",
       "      <td>462.000000</td>\n",
       "    </tr>\n",
       "  </tbody>\n",
       "</table>\n",
       "</div>"
      ],
      "text/plain": [
       "        num_orders\n",
       "count  4416.000000\n",
       "mean     84.422781\n",
       "std      45.023853\n",
       "min       0.000000\n",
       "25%      54.000000\n",
       "50%      78.000000\n",
       "75%     107.000000\n",
       "max     462.000000"
      ]
     },
     "execution_count": 10,
     "metadata": {},
     "output_type": "execute_result"
    }
   ],
   "source": [
    "#вывод описательных статистик\n",
    "taxi_data.describe()"
   ]
  },
  {
   "cell_type": "markdown",
   "metadata": {},
   "source": [
    "Используем функцию `seasonal_decomposed`, которая разложит временной ряд на 3 составляющие: тренд, сезонность и остаток. Далее построим графики."
   ]
  },
  {
   "cell_type": "code",
   "execution_count": 11,
   "metadata": {},
   "outputs": [],
   "source": [
    "decomposed = seasonal_decompose(taxi_data)"
   ]
  },
  {
   "cell_type": "code",
   "execution_count": 12,
   "metadata": {},
   "outputs": [
    {
     "data": {
      "image/png": "[encoded data removed]",
      "text/plain": [
       "<Figure size 864x648 with 3 Axes>"
      ]
     },
     "metadata": {},
     "output_type": "display_data"
    }
   ],
   "source": [
    "sns.set()\n",
    "\n",
    "plt.figure(figsize=(12,9))\n",
    "plt.subplot(311)\n",
    "decomposed.trend.plot(ax=plt.gca(), linewidth=1.2)\n",
    "plt.title('Trend')\n",
    "plt.subplot(312)\n",
    "decomposed.seasonal.plot(ax=plt.gca(), linewidth=0.9)\n",
    "plt.title('Seasonality')\n",
    "plt.subplot(313)\n",
    "decomposed.resid.plot(ax=plt.gca(), linewidth=0.8)\n",
    "plt.title('Residuals')\n",
    "plt.tight_layout()"
   ]
  },
  {
   "cell_type": "markdown",
   "metadata": {},
   "source": [
    "Визуализируем сезонность на более коротком интервале."
   ]
  },
  {
   "cell_type": "code",
   "execution_count": 13,
   "metadata": {},
   "outputs": [
    {
     "data": {
      "image/png": "[encoded data removed]",
      "text/plain": [
       "<Figure size 864x216 with 1 Axes>"
      ]
     },
     "metadata": {},
     "output_type": "display_data"
    }
   ],
   "source": [
    "plt.figure(figsize=(12,3))\n",
    "decomposed.seasonal['2018-08-15':'2018-08-31'].plot(ax=plt.gca(), linewidth=0.9)\n",
    "plt.title('Seasonality from 2018-08-15 to 2018-08-31')\n",
    "plt.tight_layout()"
   ]
  },
  {
   "cell_type": "markdown",
   "metadata": {},
   "source": [
    "Рассмотрим скользящее стандартное отклонение и среднее. `Size of the moving window` зададим в размере 24 (24 часа = 1 сутки)."
   ]
  },
  {
   "cell_type": "code",
   "execution_count": 14,
   "metadata": {},
   "outputs": [
    {
     "data": {
      "image/png": "[encoded data removed]",
      "text/plain": [
       "<Figure size 432x288 with 1 Axes>"
      ]
     },
     "metadata": {},
     "output_type": "display_data"
    }
   ],
   "source": [
    "taxi_mean_std = taxi_data\n",
    "taxi_mean_std['mean'] = taxi_mean_std['num_orders'].rolling(24).mean()\n",
    "taxi_mean_std['std'] = taxi_mean_std['num_orders'].rolling(24).std()\n",
    "taxi_mean_std.plot(title='Число заказов, \\n скользящее среднее и скользящее стандартное отклонение', \n",
    "          ylabel='Количество заказов')\n",
    "plt.show()"
   ]
  },
  {
   "cell_type": "markdown",
   "metadata": {},
   "source": [
    "Вычислим разности временного ряда. Для них также определим скользящее среднее и скользящее стандартное отклонение."
   ]
  },
  {
   "cell_type": "code",
   "execution_count": 15,
   "metadata": {},
   "outputs": [
    {
     "data": {
      "image/png": "[encoded data removed]",
      "text/plain": [
       "<Figure size 432x288 with 1 Axes>"
      ]
     },
     "metadata": {},
     "output_type": "display_data"
    }
   ],
   "source": [
    "taxi_shift_mean_std = taxi_data - taxi_data.shift()\n",
    "taxi_shift_mean_std['std'] = taxi_shift_mean_std['num_orders'].rolling(24).std()\n",
    "taxi_shift_mean_std.plot(title='Разности временного ряда', \n",
    "          ylabel='Количество заказов')\n",
    "plt.show()"
   ]
  },
  {
   "cell_type": "markdown",
   "metadata": {},
   "source": [
    "**Выводы:**\n",
    "- С помощью функции `seasonal_decomposed` было выполнено разложение временного ряда на 3 составляющие: тренд, сезонность и остаток. Были построены их графики. Данные представлены за период с марта по август включительно.\n",
    "- Количество заказов в час изменяется от 0 до 462. При этом среднее число заказов за указанный период составляет 84.\n",
    "- Cреднее значение количества заказов в целом возрастает от месяца к месяцу. Так, в марте число заказов за час не достигает 100, в то время как в августе доходит до 462 заказов в час. В течение каждого месяца наблюдаются пики и спады активности, похоже, связанные с днями недели. Циклические изменения данных, которые повторяются с постоянным интервалом времени, составляют примерно 55 заказов.\n",
    "- Установлено, что временной ряд является нестационарным, так как меняется его среднее значение и стандартное отклонение. При этом разности временного ряда более стационарны, чем сам ряд."
   ]
  },
  {
   "cell_type": "markdown",
   "metadata": {},
   "source": [
    "## Обучение"
   ]
  },
  {
   "cell_type": "markdown",
   "metadata": {},
   "source": [
    "Чтобы привлекать больше водителей в период пиковой нагрузки, нужно спрогнозировать количество заказов такси на следующий час. Построим модель для такого предсказания. Обучим разные модели с различными гиперпараметрами. Сделаем тестовую выборку размером 10% от исходных данных. Выберем лучшую модель на основе метрики RMSE."
   ]
  },
  {
   "cell_type": "code",
   "execution_count": 16,
   "metadata": {},
   "outputs": [
    {
     "data": {
      "text/html": [
       "<div>\n",
       "<style scoped>\n",
       "    .dataframe tbody tr th:only-of-type {\n",
       "        vertical-align: middle;\n",
       "    }\n",
       "\n",
       "    .dataframe tbody tr th {\n",
       "        vertical-align: top;\n",
       "    }\n",
       "\n",
       "    .dataframe thead th {\n",
       "        text-align: right;\n",
       "    }\n",
       "</style>\n",
       "<table border=\"1\" class=\"dataframe\">\n",
       "  <thead>\n",
       "    <tr style=\"text-align: right;\">\n",
       "      <th></th>\n",
       "      <th>num_orders</th>\n",
       "    </tr>\n",
       "    <tr>\n",
       "      <th>datetime</th>\n",
       "      <th></th>\n",
       "    </tr>\n",
       "  </thead>\n",
       "  <tbody>\n",
       "    <tr>\n",
       "      <th>2018-03-01 00:00:00</th>\n",
       "      <td>124</td>\n",
       "    </tr>\n",
       "    <tr>\n",
       "      <th>2018-03-01 01:00:00</th>\n",
       "      <td>85</td>\n",
       "    </tr>\n",
       "    <tr>\n",
       "      <th>2018-03-01 02:00:00</th>\n",
       "      <td>71</td>\n",
       "    </tr>\n",
       "    <tr>\n",
       "      <th>2018-03-01 03:00:00</th>\n",
       "      <td>66</td>\n",
       "    </tr>\n",
       "    <tr>\n",
       "      <th>2018-03-01 04:00:00</th>\n",
       "      <td>43</td>\n",
       "    </tr>\n",
       "  </tbody>\n",
       "</table>\n",
       "</div>"
      ],
      "text/plain": [
       "                     num_orders\n",
       "datetime                       \n",
       "2018-03-01 00:00:00         124\n",
       "2018-03-01 01:00:00          85\n",
       "2018-03-01 02:00:00          71\n",
       "2018-03-01 03:00:00          66\n",
       "2018-03-01 04:00:00          43"
      ]
     },
     "execution_count": 16,
     "metadata": {},
     "output_type": "execute_result"
    }
   ],
   "source": [
    "taxi_data = taxi_data.drop(columns=['mean', 'std'], axis=1)\n",
    "taxi_data.head()"
   ]
  },
  {
   "cell_type": "markdown",
   "metadata": {},
   "source": [
    "Выполним добавление признаков с помощью функции."
   ]
  },
  {
   "cell_type": "code",
   "execution_count": 17,
   "metadata": {},
   "outputs": [],
   "source": [
    "def make_features(data, max_lag, rolling_mean_size):\n",
    "    data_new = data\n",
    "    data_new['dayofweek'] = data_new.index.dayofweek\n",
    "    data_new['hour'] = data_new.index.hour\n",
    "    data_new['day'] = data_new.index.day\n",
    "    data_new['month'] = data_new.index.month\n",
    "    \n",
    "    for lag in range(1, max_lag):\n",
    "        data_new['lag_{}'.format(lag)] = data_new['num_orders'].shift(lag)\n",
    "        \n",
    "    data_new['rolling_mean'] = data_new['num_orders'].shift().rolling(rolling_mean_size).mean()\n",
    "    \n",
    "    return data_new"
   ]
  },
  {
   "cell_type": "markdown",
   "metadata": {},
   "source": [
    "Применим функцию к датасету. Параметр max_lag зададим равным 24 часам при создании новых признаков функцией, так как самая очевидная сезонность - внутри суток."
   ]
  },
  {
   "cell_type": "code",
   "execution_count": 18,
   "metadata": {
    "scrolled": true
   },
   "outputs": [
    {
     "data": {
      "text/html": [
       "<div>\n",
       "<style scoped>\n",
       "    .dataframe tbody tr th:only-of-type {\n",
       "        vertical-align: middle;\n",
       "    }\n",
       "\n",
       "    .dataframe tbody tr th {\n",
       "        vertical-align: top;\n",
       "    }\n",
       "\n",
       "    .dataframe thead th {\n",
       "        text-align: right;\n",
       "    }\n",
       "</style>\n",
       "<table border=\"1\" class=\"dataframe\">\n",
       "  <thead>\n",
       "    <tr style=\"text-align: right;\">\n",
       "      <th></th>\n",
       "      <th>num_orders</th>\n",
       "      <th>dayofweek</th>\n",
       "      <th>hour</th>\n",
       "      <th>day</th>\n",
       "      <th>month</th>\n",
       "      <th>lag_1</th>\n",
       "      <th>lag_2</th>\n",
       "      <th>lag_3</th>\n",
       "      <th>lag_4</th>\n",
       "      <th>lag_5</th>\n",
       "      <th>...</th>\n",
       "      <th>lag_15</th>\n",
       "      <th>lag_16</th>\n",
       "      <th>lag_17</th>\n",
       "      <th>lag_18</th>\n",
       "      <th>lag_19</th>\n",
       "      <th>lag_20</th>\n",
       "      <th>lag_21</th>\n",
       "      <th>lag_22</th>\n",
       "      <th>lag_23</th>\n",
       "      <th>rolling_mean</th>\n",
       "    </tr>\n",
       "    <tr>\n",
       "      <th>datetime</th>\n",
       "      <th></th>\n",
       "      <th></th>\n",
       "      <th></th>\n",
       "      <th></th>\n",
       "      <th></th>\n",
       "      <th></th>\n",
       "      <th></th>\n",
       "      <th></th>\n",
       "      <th></th>\n",
       "      <th></th>\n",
       "      <th></th>\n",
       "      <th></th>\n",
       "      <th></th>\n",
       "      <th></th>\n",
       "      <th></th>\n",
       "      <th></th>\n",
       "      <th></th>\n",
       "      <th></th>\n",
       "      <th></th>\n",
       "      <th></th>\n",
       "      <th></th>\n",
       "    </tr>\n",
       "  </thead>\n",
       "  <tbody>\n",
       "    <tr>\n",
       "      <th>2018-03-01 00:00:00</th>\n",
       "      <td>124</td>\n",
       "      <td>3</td>\n",
       "      <td>0</td>\n",
       "      <td>1</td>\n",
       "      <td>3</td>\n",
       "      <td>NaN</td>\n",
       "      <td>NaN</td>\n",
       "      <td>NaN</td>\n",
       "      <td>NaN</td>\n",
       "      <td>NaN</td>\n",
       "      <td>...</td>\n",
       "      <td>NaN</td>\n",
       "      <td>NaN</td>\n",
       "      <td>NaN</td>\n",
       "      <td>NaN</td>\n",
       "      <td>NaN</td>\n",
       "      <td>NaN</td>\n",
       "      <td>NaN</td>\n",
       "      <td>NaN</td>\n",
       "      <td>NaN</td>\n",
       "      <td>NaN</td>\n",
       "    </tr>\n",
       "    <tr>\n",
       "      <th>2018-03-01 01:00:00</th>\n",
       "      <td>85</td>\n",
       "      <td>3</td>\n",
       "      <td>1</td>\n",
       "      <td>1</td>\n",
       "      <td>3</td>\n",
       "      <td>124.0</td>\n",
       "      <td>NaN</td>\n",
       "      <td>NaN</td>\n",
       "      <td>NaN</td>\n",
       "      <td>NaN</td>\n",
       "      <td>...</td>\n",
       "      <td>NaN</td>\n",
       "      <td>NaN</td>\n",
       "      <td>NaN</td>\n",
       "      <td>NaN</td>\n",
       "      <td>NaN</td>\n",
       "      <td>NaN</td>\n",
       "      <td>NaN</td>\n",
       "      <td>NaN</td>\n",
       "      <td>NaN</td>\n",
       "      <td>NaN</td>\n",
       "    </tr>\n",
       "    <tr>\n",
       "      <th>2018-03-01 02:00:00</th>\n",
       "      <td>71</td>\n",
       "      <td>3</td>\n",
       "      <td>2</td>\n",
       "      <td>1</td>\n",
       "      <td>3</td>\n",
       "      <td>85.0</td>\n",
       "      <td>124.0</td>\n",
       "      <td>NaN</td>\n",
       "      <td>NaN</td>\n",
       "      <td>NaN</td>\n",
       "      <td>...</td>\n",
       "      <td>NaN</td>\n",
       "      <td>NaN</td>\n",
       "      <td>NaN</td>\n",
       "      <td>NaN</td>\n",
       "      <td>NaN</td>\n",
       "      <td>NaN</td>\n",
       "      <td>NaN</td>\n",
       "      <td>NaN</td>\n",
       "      <td>NaN</td>\n",
       "      <td>104.5</td>\n",
       "    </tr>\n",
       "  </tbody>\n",
       "</table>\n",
       "<p>3 rows × 29 columns</p>\n",
       "</div>"
      ],
      "text/plain": [
       "                     num_orders  dayofweek  hour  day  month  lag_1  lag_2  \\\n",
       "datetime                                                                     \n",
       "2018-03-01 00:00:00         124          3     0    1      3    NaN    NaN   \n",
       "2018-03-01 01:00:00          85          3     1    1      3  124.0    NaN   \n",
       "2018-03-01 02:00:00          71          3     2    1      3   85.0  124.0   \n",
       "\n",
       "                     lag_3  lag_4  lag_5  ...  lag_15  lag_16  lag_17  lag_18  \\\n",
       "datetime                                  ...                                   \n",
       "2018-03-01 00:00:00    NaN    NaN    NaN  ...     NaN     NaN     NaN     NaN   \n",
       "2018-03-01 01:00:00    NaN    NaN    NaN  ...     NaN     NaN     NaN     NaN   \n",
       "2018-03-01 02:00:00    NaN    NaN    NaN  ...     NaN     NaN     NaN     NaN   \n",
       "\n",
       "                     lag_19  lag_20  lag_21  lag_22  lag_23  rolling_mean  \n",
       "datetime                                                                   \n",
       "2018-03-01 00:00:00     NaN     NaN     NaN     NaN     NaN           NaN  \n",
       "2018-03-01 01:00:00     NaN     NaN     NaN     NaN     NaN           NaN  \n",
       "2018-03-01 02:00:00     NaN     NaN     NaN     NaN     NaN         104.5  \n",
       "\n",
       "[3 rows x 29 columns]"
      ]
     },
     "execution_count": 18,
     "metadata": {},
     "output_type": "execute_result"
    }
   ],
   "source": [
    "taxi = make_features(taxi_data, 24, 2)\n",
    "taxi.head(3)"
   ]
  },
  {
   "cell_type": "markdown",
   "metadata": {},
   "source": [
    "Разделим данные на обучающую и тестовую выборки."
   ]
  },
  {
   "cell_type": "code",
   "execution_count": 19,
   "metadata": {},
   "outputs": [],
   "source": [
    "train, test = train_test_split(taxi, shuffle=False, test_size=0.1)\n",
    "\n",
    "#удалим строки с пропусками\n",
    "train = train.dropna()\n",
    "\n",
    "X_train = train.drop(columns=['num_orders'], axis=1)\n",
    "X_test = test.drop(columns=['num_orders'], axis=1)\n",
    "y_train = train['num_orders']\n",
    "y_test = test['num_orders']"
   ]
  },
  {
   "cell_type": "markdown",
   "metadata": {},
   "source": [
    "Создадим функцию для расчета метрики качества модели."
   ]
  },
  {
   "cell_type": "code",
   "execution_count": 20,
   "metadata": {},
   "outputs": [],
   "source": [
    "#создадим функцию для расчета метрики RMSE\n",
    "def rmse_score(y_true, y_pred):\n",
    "    return root_mean_squared_error(y_true, y_pred)\n",
    "\n",
    "scorer = make_scorer(rmse_score, greater_is_better=False)"
   ]
  },
  {
   "cell_type": "markdown",
   "metadata": {},
   "source": [
    "Учтем, что все признаки являются числовыми.\n",
    "Cоздадим пайплайн, в котором будут перебираться четыре варианта масштабирования: методы StandardScaler(), MinMaxScaler(), RobustScaler() и вариант без масштабирования.\n",
    "Далее запустим итоговый пайплайн, который выберет лучшую комбинацию модели и гиперпараметров. Модели, которые будут рассмотрены: LinearRegression(), LassoRegression(), Ridge(), CatBoostRegressor(), LGBMRegressor(), DecisionTreeRegressor(), SVR()."
   ]
  },
  {
   "cell_type": "code",
   "execution_count": 21,
   "metadata": {},
   "outputs": [],
   "source": [
    "num_columns = ['dayofweek', 'hour', 'day', 'month',\n",
    "               'lag_1', 'lag_2', 'lag_3', 'lag_4', 'lag_5', 'rolling_mean']"
   ]
  },
  {
   "cell_type": "code",
   "execution_count": 22,
   "metadata": {},
   "outputs": [],
   "source": [
    "#cоздадим общий пайплайн для подготовки данных\n",
    "data_preprocessor = ColumnTransformer(\n",
    "    [\n",
    "        ('num', MinMaxScaler(), num_columns)\n",
    "    ], \n",
    "    remainder='passthrough'\n",
    ")\n",
    "\n",
    "#cоздадим итоговый пайплайн: подготовка данных и модель\n",
    "pipe_final= Pipeline(\n",
    "    [\n",
    "        ('preprocessor', data_preprocessor),\n",
    "        ('models', DecisionTreeRegressor(random_state=RANDOM_STATE))\n",
    "    ]\n",
    ")"
   ]
  },
  {
   "cell_type": "code",
   "execution_count": 23,
   "metadata": {},
   "outputs": [],
   "source": [
    "#cоздадим пайплайн, \n",
    "#в котором будут перебираться четыре варианта масштабирования: \n",
    "#методы StandardScaler(), MinMaxScaler(), RobustScaler() и вариант без масштабирования\n",
    "#запустим итоговый пайплайн, который выберет лучшую комбинацию модели и гиперпараметров\n",
    "\n",
    "param_grid = [\n",
    "    # словарь для модели LinearRegression()\n",
    "    {\n",
    "        'models': [LinearRegression()],\n",
    "        'preprocessor__num': [StandardScaler(), MinMaxScaler(), RobustScaler(), 'passthrough']  \n",
    "    },\n",
    "    \n",
    "    # словарь для модели LassoRegression \n",
    "    {\n",
    "        'models': [Lasso(random_state=RANDOM_STATE)],\n",
    "        'models__max_iter': [500, 1000, 2000],\n",
    "        'models__alpha': [0.01, 0.1, 1, 10],\n",
    "        'preprocessor__num': [StandardScaler(), MinMaxScaler(), RobustScaler(), 'passthrough']   \n",
    "    },\n",
    "\n",
    "    # словарь для модели RidgeRegression()\n",
    "    {\n",
    "        'models': [Ridge()],\n",
    "        'models__alpha': [0.01, 0.1, 1, 10],\n",
    "        'preprocessor__num': [StandardScaler(), MinMaxScaler(), RobustScaler(), 'passthrough']  \n",
    "    },\n",
    "    \n",
    "    # словарь для модели CatBoostRegressor()\n",
    "    {\n",
    "        'models': [CatBoostRegressor(random_state=RANDOM_STATE, iterations=40)],\n",
    "        'models__simple_ctr': ['Buckets', 'BinarizedTargetMeanValue', 'Counter'],\n",
    "        'models__combinations_ctr': ['Buckets', 'BinarizedTargetMeanValue', 'Counter'],\n",
    "        'models__max_depth': range(1, 4),\n",
    "        'preprocessor__num': [StandardScaler(), MinMaxScaler(), RobustScaler(), 'passthrough']  \n",
    "    },\n",
    "    \n",
    "    # словарь для модели LGBMRegressor()\n",
    "    {\n",
    "        'models': [LGBMRegressor(random_state=RANDOM_STATE)],\n",
    "        'models__num_leaves':range(4, 20),\n",
    "        'models__max_depth': range(4, 20),\n",
    "        'models__n_estimators': range(25, 50),\n",
    "        'preprocessor__num': [StandardScaler(), MinMaxScaler(), RobustScaler(), 'passthrough']  \n",
    "    },\n",
    "    \n",
    "    # словарь для модели DecisionTreeRegressor()\n",
    "    {\n",
    "        'models': [DecisionTreeRegressor(random_state=RANDOM_STATE)],\n",
    "        'models__max_depth': range(1, 10),\n",
    "        'models__min_samples_split': range(1, 10),\n",
    "        'models__min_samples_leaf': range(1, 5),\n",
    "        'preprocessor__num': [StandardScaler(), MinMaxScaler(), RobustScaler(), 'passthrough']  \n",
    "    },\n",
    "    \n",
    "    # словарь для модели SVR()\n",
    "    {\n",
    "        'models': [SVR()],\n",
    "        'models__kernel': ['linear', 'poly', 'rbf', 'sigmoid'],\n",
    "        'preprocessor__num': [StandardScaler(), MinMaxScaler(), RobustScaler(), 'passthrough']  \n",
    "    },\n",
    "]\n",
    "\n",
    "tscv = TimeSeriesSplit(n_splits=5)\n",
    "\n",
    "randomized_search = RandomizedSearchCV(\n",
    "    pipe_final, \n",
    "    param_grid, \n",
    "    cv=tscv,\n",
    "    scoring=scorer,\n",
    "    random_state=RANDOM_STATE,\n",
    "    n_jobs=-1\n",
    ")"
   ]
  },
  {
   "cell_type": "code",
   "execution_count": 24,
   "metadata": {},
   "outputs": [
    {
     "name": "stdout",
     "output_type": "stream",
     "text": [
      "CPU times: user 3 µs, sys: 1e+03 ns, total: 4 µs\n",
      "Wall time: 6.2 µs\n"
     ]
    },
    {
     "data": {
      "text/html": [
       "<style>#sk-container-id-1 {\n",
       "  /* Definition of color scheme common for light and dark mode */\n",
       "  --sklearn-color-text: black;\n",
       "  --sklearn-color-line: gray;\n",
       "  /* Definition of color scheme for unfitted estimators */\n",
       "  --sklearn-color-unfitted-level-0: #fff5e6;\n",
       "  --sklearn-color-unfitted-level-1: #f6e4d2;\n",
       "  --sklearn-color-unfitted-level-2: #ffe0b3;\n",
       "  --sklearn-color-unfitted-level-3: chocolate;\n",
       "  /* Definition of color scheme for fitted estimators */\n",
       "  --sklearn-color-fitted-level-0: #f0f8ff;\n",
       "  --sklearn-color-fitted-level-1: #d4ebff;\n",
       "  --sklearn-color-fitted-level-2: #b3dbfd;\n",
       "  --sklearn-color-fitted-level-3: cornflowerblue;\n",
       "\n",
       "  /* Specific color for light theme */\n",
       "  --sklearn-color-text-on-default-background: var(--sg-text-color, var(--theme-code-foreground, var(--jp-content-font-color1, black)));\n",
       "  --sklearn-color-background: var(--sg-background-color, var(--theme-background, var(--jp-layout-color0, white)));\n",
       "  --sklearn-color-border-box: var(--sg-text-color, var(--theme-code-foreground, var(--jp-content-font-color1, black)));\n",
       "  --sklearn-color-icon: #696969;\n",
       "\n",
       "  @media (prefers-color-scheme: dark) {\n",
       "    /* Redefinition of color scheme for dark theme */\n",
       "    --sklearn-color-text-on-default-background: var(--sg-text-color, var(--theme-code-foreground, var(--jp-content-font-color1, white)));\n",
       "    --sklearn-color-background: var(--sg-background-color, var(--theme-background, var(--jp-layout-color0, #111)));\n",
       "    --sklearn-color-border-box: var(--sg-text-color, var(--theme-code-foreground, var(--jp-content-font-color1, white)));\n",
       "    --sklearn-color-icon: #878787;\n",
       "  }\n",
       "}\n",
       "\n",
       "#sk-container-id-1 {\n",
       "  color: var(--sklearn-color-text);\n",
       "}\n",
       "\n",
       "#sk-container-id-1 pre {\n",
       "  padding: 0;\n",
       "}\n",
       "\n",
       "#sk-container-id-1 input.sk-hidden--visually {\n",
       "  border: 0;\n",
       "  clip: rect(1px 1px 1px 1px);\n",
       "  clip: rect(1px, 1px, 1px, 1px);\n",
       "  height: 1px;\n",
       "  margin: -1px;\n",
       "  overflow: hidden;\n",
       "  padding: 0;\n",
       "  position: absolute;\n",
       "  width: 1px;\n",
       "}\n",
       "\n",
       "#sk-container-id-1 div.sk-dashed-wrapped {\n",
       "  border: 1px dashed var(--sklearn-color-line);\n",
       "  margin: 0 0.4em 0.5em 0.4em;\n",
       "  box-sizing: border-box;\n",
       "  padding-bottom: 0.4em;\n",
       "  background-color: var(--sklearn-color-background);\n",
       "}\n",
       "\n",
       "#sk-container-id-1 div.sk-container {\n",
       "  /* jupyter's `normalize.less` sets `[hidden] { display: none; }`\n",
       "     but bootstrap.min.css set `[hidden] { display: none !important; }`\n",
       "     so we also need the `!important` here to be able to override the\n",
       "     default hidden behavior on the sphinx rendered scikit-learn.org.\n",
       "     See: https://github.com/scikit-learn/scikit-learn/issues/21755 */\n",
       "  display: inline-block !important;\n",
       "  position: relative;\n",
       "}\n",
       "\n",
       "#sk-container-id-1 div.sk-text-repr-fallback {\n",
       "  display: none;\n",
       "}\n",
       "\n",
       "div.sk-parallel-item,\n",
       "div.sk-serial,\n",
       "div.sk-item {\n",
       "  /* draw centered vertical line to link estimators */\n",
       "  background-image: linear-gradient(var(--sklearn-color-text-on-default-background), var(--sklearn-color-text-on-default-background));\n",
       "  background-size: 2px 100%;\n",
       "  background-repeat: no-repeat;\n",
       "  background-position: center center;\n",
       "}\n",
       "\n",
       "/* Parallel-specific style estimator block */\n",
       "\n",
       "#sk-container-id-1 div.sk-parallel-item::after {\n",
       "  content: \"\";\n",
       "  width: 100%;\n",
       "  border-bottom: 2px solid var(--sklearn-color-text-on-default-background);\n",
       "  flex-grow: 1;\n",
       "}\n",
       "\n",
       "#sk-container-id-1 div.sk-parallel {\n",
       "  display: flex;\n",
       "  align-items: stretch;\n",
       "  justify-content: center;\n",
       "  background-color: var(--sklearn-color-background);\n",
       "  position: relative;\n",
       "}\n",
       "\n",
       "#sk-container-id-1 div.sk-parallel-item {\n",
       "  display: flex;\n",
       "  flex-direction: column;\n",
       "}\n",
       "\n",
       "#sk-container-id-1 div.sk-parallel-item:first-child::after {\n",
       "  align-self: flex-end;\n",
       "  width: 50%;\n",
       "}\n",
       "\n",
       "#sk-container-id-1 div.sk-parallel-item:last-child::after {\n",
       "  align-self: flex-start;\n",
       "  width: 50%;\n",
       "}\n",
       "\n",
       "#sk-container-id-1 div.sk-parallel-item:only-child::after {\n",
       "  width: 0;\n",
       "}\n",
       "\n",
       "/* Serial-specific style estimator block */\n",
       "\n",
       "#sk-container-id-1 div.sk-serial {\n",
       "  display: flex;\n",
       "  flex-direction: column;\n",
       "  align-items: center;\n",
       "  background-color: var(--sklearn-color-background);\n",
       "  padding-right: 1em;\n",
       "  padding-left: 1em;\n",
       "}\n",
       "\n",
       "\n",
       "/* Toggleable style: style used for estimator/Pipeline/ColumnTransformer box that is\n",
       "clickable and can be expanded/collapsed.\n",
       "- Pipeline and ColumnTransformer use this feature and define the default style\n",
       "- Estimators will overwrite some part of the style using the `sk-estimator` class\n",
       "*/\n",
       "\n",
       "/* Pipeline and ColumnTransformer style (default) */\n",
       "\n",
       "#sk-container-id-1 div.sk-toggleable {\n",
       "  /* Default theme specific background. It is overwritten whether we have a\n",
       "  specific estimator or a Pipeline/ColumnTransformer */\n",
       "  background-color: var(--sklearn-color-background);\n",
       "}\n",
       "\n",
       "/* Toggleable label */\n",
       "#sk-container-id-1 label.sk-toggleable__label {\n",
       "  cursor: pointer;\n",
       "  display: block;\n",
       "  width: 100%;\n",
       "  margin-bottom: 0;\n",
       "  padding: 0.5em;\n",
       "  box-sizing: border-box;\n",
       "  text-align: center;\n",
       "}\n",
       "\n",
       "#sk-container-id-1 label.sk-toggleable__label-arrow:before {\n",
       "  /* Arrow on the left of the label */\n",
       "  content: \"▸\";\n",
       "  float: left;\n",
       "  margin-right: 0.25em;\n",
       "  color: var(--sklearn-color-icon);\n",
       "}\n",
       "\n",
       "#sk-container-id-1 label.sk-toggleable__label-arrow:hover:before {\n",
       "  color: var(--sklearn-color-text);\n",
       "}\n",
       "\n",
       "/* Toggleable content - dropdown */\n",
       "\n",
       "#sk-container-id-1 div.sk-toggleable__content {\n",
       "  max-height: 0;\n",
       "  max-width: 0;\n",
       "  overflow: hidden;\n",
       "  text-align: left;\n",
       "  /* unfitted */\n",
       "  background-color: var(--sklearn-color-unfitted-level-0);\n",
       "}\n",
       "\n",
       "#sk-container-id-1 div.sk-toggleable__content.fitted {\n",
       "  /* fitted */\n",
       "  background-color: var(--sklearn-color-fitted-level-0);\n",
       "}\n",
       "\n",
       "#sk-container-id-1 div.sk-toggleable__content pre {\n",
       "  margin: 0.2em;\n",
       "  border-radius: 0.25em;\n",
       "  color: var(--sklearn-color-text);\n",
       "  /* unfitted */\n",
       "  background-color: var(--sklearn-color-unfitted-level-0);\n",
       "}\n",
       "\n",
       "#sk-container-id-1 div.sk-toggleable__content.fitted pre {\n",
       "  /* unfitted */\n",
       "  background-color: var(--sklearn-color-fitted-level-0);\n",
       "}\n",
       "\n",
       "#sk-container-id-1 input.sk-toggleable__control:checked~div.sk-toggleable__content {\n",
       "  /* Expand drop-down */\n",
       "  max-height: 200px;\n",
       "  max-width: 100%;\n",
       "  overflow: auto;\n",
       "}\n",
       "\n",
       "#sk-container-id-1 input.sk-toggleable__control:checked~label.sk-toggleable__label-arrow:before {\n",
       "  content: \"▾\";\n",
       "}\n",
       "\n",
       "/* Pipeline/ColumnTransformer-specific style */\n",
       "\n",
       "#sk-container-id-1 div.sk-label input.sk-toggleable__control:checked~label.sk-toggleable__label {\n",
       "  color: var(--sklearn-color-text);\n",
       "  background-color: var(--sklearn-color-unfitted-level-2);\n",
       "}\n",
       "\n",
       "#sk-container-id-1 div.sk-label.fitted input.sk-toggleable__control:checked~label.sk-toggleable__label {\n",
       "  background-color: var(--sklearn-color-fitted-level-2);\n",
       "}\n",
       "\n",
       "/* Estimator-specific style */\n",
       "\n",
       "/* Colorize estimator box */\n",
       "#sk-container-id-1 div.sk-estimator input.sk-toggleable__control:checked~label.sk-toggleable__label {\n",
       "  /* unfitted */\n",
       "  background-color: var(--sklearn-color-unfitted-level-2);\n",
       "}\n",
       "\n",
       "#sk-container-id-1 div.sk-estimator.fitted input.sk-toggleable__control:checked~label.sk-toggleable__label {\n",
       "  /* fitted */\n",
       "  background-color: var(--sklearn-color-fitted-level-2);\n",
       "}\n",
       "\n",
       "#sk-container-id-1 div.sk-label label.sk-toggleable__label,\n",
       "#sk-container-id-1 div.sk-label label {\n",
       "  /* The background is the default theme color */\n",
       "  color: var(--sklearn-color-text-on-default-background);\n",
       "}\n",
       "\n",
       "/* On hover, darken the color of the background */\n",
       "#sk-container-id-1 div.sk-label:hover label.sk-toggleable__label {\n",
       "  color: var(--sklearn-color-text);\n",
       "  background-color: var(--sklearn-color-unfitted-level-2);\n",
       "}\n",
       "\n",
       "/* Label box, darken color on hover, fitted */\n",
       "#sk-container-id-1 div.sk-label.fitted:hover label.sk-toggleable__label.fitted {\n",
       "  color: var(--sklearn-color-text);\n",
       "  background-color: var(--sklearn-color-fitted-level-2);\n",
       "}\n",
       "\n",
       "/* Estimator label */\n",
       "\n",
       "#sk-container-id-1 div.sk-label label {\n",
       "  font-family: monospace;\n",
       "  font-weight: bold;\n",
       "  display: inline-block;\n",
       "  line-height: 1.2em;\n",
       "}\n",
       "\n",
       "#sk-container-id-1 div.sk-label-container {\n",
       "  text-align: center;\n",
       "}\n",
       "\n",
       "/* Estimator-specific */\n",
       "#sk-container-id-1 div.sk-estimator {\n",
       "  font-family: monospace;\n",
       "  border: 1px dotted var(--sklearn-color-border-box);\n",
       "  border-radius: 0.25em;\n",
       "  box-sizing: border-box;\n",
       "  margin-bottom: 0.5em;\n",
       "  /* unfitted */\n",
       "  background-color: var(--sklearn-color-unfitted-level-0);\n",
       "}\n",
       "\n",
       "#sk-container-id-1 div.sk-estimator.fitted {\n",
       "  /* fitted */\n",
       "  background-color: var(--sklearn-color-fitted-level-0);\n",
       "}\n",
       "\n",
       "/* on hover */\n",
       "#sk-container-id-1 div.sk-estimator:hover {\n",
       "  /* unfitted */\n",
       "  background-color: var(--sklearn-color-unfitted-level-2);\n",
       "}\n",
       "\n",
       "#sk-container-id-1 div.sk-estimator.fitted:hover {\n",
       "  /* fitted */\n",
       "  background-color: var(--sklearn-color-fitted-level-2);\n",
       "}\n",
       "\n",
       "/* Specification for estimator info (e.g. \"i\" and \"?\") */\n",
       "\n",
       "/* Common style for \"i\" and \"?\" */\n",
       "\n",
       ".sk-estimator-doc-link,\n",
       "a:link.sk-estimator-doc-link,\n",
       "a:visited.sk-estimator-doc-link {\n",
       "  float: right;\n",
       "  font-size: smaller;\n",
       "  line-height: 1em;\n",
       "  font-family: monospace;\n",
       "  background-color: var(--sklearn-color-background);\n",
       "  border-radius: 1em;\n",
       "  height: 1em;\n",
       "  width: 1em;\n",
       "  text-decoration: none !important;\n",
       "  margin-left: 1ex;\n",
       "  /* unfitted */\n",
       "  border: var(--sklearn-color-unfitted-level-1) 1pt solid;\n",
       "  color: var(--sklearn-color-unfitted-level-1);\n",
       "}\n",
       "\n",
       ".sk-estimator-doc-link.fitted,\n",
       "a:link.sk-estimator-doc-link.fitted,\n",
       "a:visited.sk-estimator-doc-link.fitted {\n",
       "  /* fitted */\n",
       "  border: var(--sklearn-color-fitted-level-1) 1pt solid;\n",
       "  color: var(--sklearn-color-fitted-level-1);\n",
       "}\n",
       "\n",
       "/* On hover */\n",
       "div.sk-estimator:hover .sk-estimator-doc-link:hover,\n",
       ".sk-estimator-doc-link:hover,\n",
       "div.sk-label-container:hover .sk-estimator-doc-link:hover,\n",
       ".sk-estimator-doc-link:hover {\n",
       "  /* unfitted */\n",
       "  background-color: var(--sklearn-color-unfitted-level-3);\n",
       "  color: var(--sklearn-color-background);\n",
       "  text-decoration: none;\n",
       "}\n",
       "\n",
       "div.sk-estimator.fitted:hover .sk-estimator-doc-link.fitted:hover,\n",
       ".sk-estimator-doc-link.fitted:hover,\n",
       "div.sk-label-container:hover .sk-estimator-doc-link.fitted:hover,\n",
       ".sk-estimator-doc-link.fitted:hover {\n",
       "  /* fitted */\n",
       "  background-color: var(--sklearn-color-fitted-level-3);\n",
       "  color: var(--sklearn-color-background);\n",
       "  text-decoration: none;\n",
       "}\n",
       "\n",
       "/* Span, style for the box shown on hovering the info icon */\n",
       ".sk-estimator-doc-link span {\n",
       "  display: none;\n",
       "  z-index: 9999;\n",
       "  position: relative;\n",
       "  font-weight: normal;\n",
       "  right: .2ex;\n",
       "  padding: .5ex;\n",
       "  margin: .5ex;\n",
       "  width: min-content;\n",
       "  min-width: 20ex;\n",
       "  max-width: 50ex;\n",
       "  color: var(--sklearn-color-text);\n",
       "  box-shadow: 2pt 2pt 4pt #999;\n",
       "  /* unfitted */\n",
       "  background: var(--sklearn-color-unfitted-level-0);\n",
       "  border: .5pt solid var(--sklearn-color-unfitted-level-3);\n",
       "}\n",
       "\n",
       ".sk-estimator-doc-link.fitted span {\n",
       "  /* fitted */\n",
       "  background: var(--sklearn-color-fitted-level-0);\n",
       "  border: var(--sklearn-color-fitted-level-3);\n",
       "}\n",
       "\n",
       ".sk-estimator-doc-link:hover span {\n",
       "  display: block;\n",
       "}\n",
       "\n",
       "/* \"?\"-specific style due to the `<a>` HTML tag */\n",
       "\n",
       "#sk-container-id-1 a.estimator_doc_link {\n",
       "  float: right;\n",
       "  font-size: 1rem;\n",
       "  line-height: 1em;\n",
       "  font-family: monospace;\n",
       "  background-color: var(--sklearn-color-background);\n",
       "  border-radius: 1rem;\n",
       "  height: 1rem;\n",
       "  width: 1rem;\n",
       "  text-decoration: none;\n",
       "  /* unfitted */\n",
       "  color: var(--sklearn-color-unfitted-level-1);\n",
       "  border: var(--sklearn-color-unfitted-level-1) 1pt solid;\n",
       "}\n",
       "\n",
       "#sk-container-id-1 a.estimator_doc_link.fitted {\n",
       "  /* fitted */\n",
       "  border: var(--sklearn-color-fitted-level-1) 1pt solid;\n",
       "  color: var(--sklearn-color-fitted-level-1);\n",
       "}\n",
       "\n",
       "/* On hover */\n",
       "#sk-container-id-1 a.estimator_doc_link:hover {\n",
       "  /* unfitted */\n",
       "  background-color: var(--sklearn-color-unfitted-level-3);\n",
       "  color: var(--sklearn-color-background);\n",
       "  text-decoration: none;\n",
       "}\n",
       "\n",
       "#sk-container-id-1 a.estimator_doc_link.fitted:hover {\n",
       "  /* fitted */\n",
       "  background-color: var(--sklearn-color-fitted-level-3);\n",
       "}\n",
       "</style><div id=\"sk-container-id-1\" class=\"sk-top-container\"><div class=\"sk-text-repr-fallback\"><pre>RandomizedSearchCV(cv=TimeSeriesSplit(gap=0, max_train_size=None, n_splits=5, test_size=None),\n",
       "                   estimator=Pipeline(steps=[(&#x27;preprocessor&#x27;,\n",
       "                                              ColumnTransformer(remainder=&#x27;passthrough&#x27;,\n",
       "                                                                transformers=[(&#x27;num&#x27;,\n",
       "                                                                               MinMaxScaler(),\n",
       "                                                                               [&#x27;dayofweek&#x27;,\n",
       "                                                                                &#x27;hour&#x27;,\n",
       "                                                                                &#x27;day&#x27;,\n",
       "                                                                                &#x27;month&#x27;,\n",
       "                                                                                &#x27;lag_1&#x27;,\n",
       "                                                                                &#x27;lag_2&#x27;,\n",
       "                                                                                &#x27;lag_3&#x27;,\n",
       "                                                                                &#x27;lag_4&#x27;,\n",
       "                                                                                &#x27;lag_5&#x27;,\n",
       "                                                                                &#x27;rolling_mean&#x27;])])),\n",
       "                                             (&#x27;models&#x27;,\n",
       "                                              DecisionTreeRegressor(random_state=...\n",
       "                                         &#x27;models__min_samples_split&#x27;: range(1, 10),\n",
       "                                         &#x27;preprocessor__num&#x27;: [StandardScaler(),\n",
       "                                                               MinMaxScaler(),\n",
       "                                                               RobustScaler(),\n",
       "                                                               &#x27;passthrough&#x27;]},\n",
       "                                        {&#x27;models&#x27;: [SVR()],\n",
       "                                         &#x27;models__kernel&#x27;: [&#x27;linear&#x27;, &#x27;poly&#x27;,\n",
       "                                                            &#x27;rbf&#x27;, &#x27;sigmoid&#x27;],\n",
       "                                         &#x27;preprocessor__num&#x27;: [StandardScaler(),\n",
       "                                                               MinMaxScaler(),\n",
       "                                                               RobustScaler(),\n",
       "                                                               &#x27;passthrough&#x27;]}],\n",
       "                   random_state=42,\n",
       "                   scoring=make_scorer(rmse_score, greater_is_better=False, response_method=&#x27;predict&#x27;))</pre><b>In a Jupyter environment, please rerun this cell to show the HTML representation or trust the notebook. <br />On GitHub, the HTML representation is unable to render, please try loading this page with nbviewer.org.</b></div><div class=\"sk-container\" hidden><div class=\"sk-item sk-dashed-wrapped\"><div class=\"sk-label-container\"><div class=\"sk-label fitted sk-toggleable\"><input class=\"sk-toggleable__control sk-hidden--visually\" id=\"sk-estimator-id-1\" type=\"checkbox\" ><label for=\"sk-estimator-id-1\" class=\"sk-toggleable__label fitted sk-toggleable__label-arrow fitted\">&nbsp;&nbsp;RandomizedSearchCV<a class=\"sk-estimator-doc-link fitted\" rel=\"noreferrer\" target=\"_blank\" href=\"https://scikit-learn.org/1.4/modules/generated/sklearn.model_selection.RandomizedSearchCV.html\">?<span>Documentation for RandomizedSearchCV</span></a><span class=\"sk-estimator-doc-link fitted\">i<span>Fitted</span></span></label><div class=\"sk-toggleable__content fitted\"><pre>RandomizedSearchCV(cv=TimeSeriesSplit(gap=0, max_train_size=None, n_splits=5, test_size=None),\n",
       "                   estimator=Pipeline(steps=[(&#x27;preprocessor&#x27;,\n",
       "                                              ColumnTransformer(remainder=&#x27;passthrough&#x27;,\n",
       "                                                                transformers=[(&#x27;num&#x27;,\n",
       "                                                                               MinMaxScaler(),\n",
       "                                                                               [&#x27;dayofweek&#x27;,\n",
       "                                                                                &#x27;hour&#x27;,\n",
       "                                                                                &#x27;day&#x27;,\n",
       "                                                                                &#x27;month&#x27;,\n",
       "                                                                                &#x27;lag_1&#x27;,\n",
       "                                                                                &#x27;lag_2&#x27;,\n",
       "                                                                                &#x27;lag_3&#x27;,\n",
       "                                                                                &#x27;lag_4&#x27;,\n",
       "                                                                                &#x27;lag_5&#x27;,\n",
       "                                                                                &#x27;rolling_mean&#x27;])])),\n",
       "                                             (&#x27;models&#x27;,\n",
       "                                              DecisionTreeRegressor(random_state=...\n",
       "                                         &#x27;models__min_samples_split&#x27;: range(1, 10),\n",
       "                                         &#x27;preprocessor__num&#x27;: [StandardScaler(),\n",
       "                                                               MinMaxScaler(),\n",
       "                                                               RobustScaler(),\n",
       "                                                               &#x27;passthrough&#x27;]},\n",
       "                                        {&#x27;models&#x27;: [SVR()],\n",
       "                                         &#x27;models__kernel&#x27;: [&#x27;linear&#x27;, &#x27;poly&#x27;,\n",
       "                                                            &#x27;rbf&#x27;, &#x27;sigmoid&#x27;],\n",
       "                                         &#x27;preprocessor__num&#x27;: [StandardScaler(),\n",
       "                                                               MinMaxScaler(),\n",
       "                                                               RobustScaler(),\n",
       "                                                               &#x27;passthrough&#x27;]}],\n",
       "                   random_state=42,\n",
       "                   scoring=make_scorer(rmse_score, greater_is_better=False, response_method=&#x27;predict&#x27;))</pre></div> </div></div><div class=\"sk-parallel\"><div class=\"sk-parallel-item\"><div class=\"sk-item\"><div class=\"sk-label-container\"><div class=\"sk-label fitted sk-toggleable\"><input class=\"sk-toggleable__control sk-hidden--visually\" id=\"sk-estimator-id-2\" type=\"checkbox\" ><label for=\"sk-estimator-id-2\" class=\"sk-toggleable__label fitted sk-toggleable__label-arrow fitted\">estimator: Pipeline</label><div class=\"sk-toggleable__content fitted\"><pre>Pipeline(steps=[(&#x27;preprocessor&#x27;,\n",
       "                 ColumnTransformer(remainder=&#x27;passthrough&#x27;,\n",
       "                                   transformers=[(&#x27;num&#x27;, MinMaxScaler(),\n",
       "                                                  [&#x27;dayofweek&#x27;, &#x27;hour&#x27;, &#x27;day&#x27;,\n",
       "                                                   &#x27;month&#x27;, &#x27;lag_1&#x27;, &#x27;lag_2&#x27;,\n",
       "                                                   &#x27;lag_3&#x27;, &#x27;lag_4&#x27;, &#x27;lag_5&#x27;,\n",
       "                                                   &#x27;rolling_mean&#x27;])])),\n",
       "                (&#x27;models&#x27;, DecisionTreeRegressor(random_state=42))])</pre></div> </div></div><div class=\"sk-serial\"><div class=\"sk-item\"><div class=\"sk-serial\"><div class=\"sk-item sk-dashed-wrapped\"><div class=\"sk-label-container\"><div class=\"sk-label fitted sk-toggleable\"><input class=\"sk-toggleable__control sk-hidden--visually\" id=\"sk-estimator-id-3\" type=\"checkbox\" ><label for=\"sk-estimator-id-3\" class=\"sk-toggleable__label fitted sk-toggleable__label-arrow fitted\">&nbsp;preprocessor: ColumnTransformer<a class=\"sk-estimator-doc-link fitted\" rel=\"noreferrer\" target=\"_blank\" href=\"https://scikit-learn.org/1.4/modules/generated/sklearn.compose.ColumnTransformer.html\">?<span>Documentation for preprocessor: ColumnTransformer</span></a></label><div class=\"sk-toggleable__content fitted\"><pre>ColumnTransformer(remainder=&#x27;passthrough&#x27;,\n",
       "                  transformers=[(&#x27;num&#x27;, MinMaxScaler(),\n",
       "                                 [&#x27;dayofweek&#x27;, &#x27;hour&#x27;, &#x27;day&#x27;, &#x27;month&#x27;, &#x27;lag_1&#x27;,\n",
       "                                  &#x27;lag_2&#x27;, &#x27;lag_3&#x27;, &#x27;lag_4&#x27;, &#x27;lag_5&#x27;,\n",
       "                                  &#x27;rolling_mean&#x27;])])</pre></div> </div></div><div class=\"sk-parallel\"><div class=\"sk-parallel-item\"><div class=\"sk-item\"><div class=\"sk-label-container\"><div class=\"sk-label fitted sk-toggleable\"><input class=\"sk-toggleable__control sk-hidden--visually\" id=\"sk-estimator-id-4\" type=\"checkbox\" ><label for=\"sk-estimator-id-4\" class=\"sk-toggleable__label fitted sk-toggleable__label-arrow fitted\">num</label><div class=\"sk-toggleable__content fitted\"><pre>[&#x27;dayofweek&#x27;, &#x27;hour&#x27;, &#x27;day&#x27;, &#x27;month&#x27;, &#x27;lag_1&#x27;, &#x27;lag_2&#x27;, &#x27;lag_3&#x27;, &#x27;lag_4&#x27;, &#x27;lag_5&#x27;, &#x27;rolling_mean&#x27;]</pre></div> </div></div><div class=\"sk-serial\"><div class=\"sk-item\"><div class=\"sk-estimator fitted sk-toggleable\"><input class=\"sk-toggleable__control sk-hidden--visually\" id=\"sk-estimator-id-5\" type=\"checkbox\" ><label for=\"sk-estimator-id-5\" class=\"sk-toggleable__label fitted sk-toggleable__label-arrow fitted\">&nbsp;MinMaxScaler<a class=\"sk-estimator-doc-link fitted\" rel=\"noreferrer\" target=\"_blank\" href=\"https://scikit-learn.org/1.4/modules/generated/sklearn.preprocessing.MinMaxScaler.html\">?<span>Documentation for MinMaxScaler</span></a></label><div class=\"sk-toggleable__content fitted\"><pre>MinMaxScaler()</pre></div> </div></div></div></div></div><div class=\"sk-parallel-item\"><div class=\"sk-item\"><div class=\"sk-label-container\"><div class=\"sk-label fitted sk-toggleable\"><input class=\"sk-toggleable__control sk-hidden--visually\" id=\"sk-estimator-id-6\" type=\"checkbox\" ><label for=\"sk-estimator-id-6\" class=\"sk-toggleable__label fitted sk-toggleable__label-arrow fitted\">remainder</label><div class=\"sk-toggleable__content fitted\"><pre></pre></div> </div></div><div class=\"sk-serial\"><div class=\"sk-item\"><div class=\"sk-estimator fitted sk-toggleable\"><input class=\"sk-toggleable__control sk-hidden--visually\" id=\"sk-estimator-id-7\" type=\"checkbox\" ><label for=\"sk-estimator-id-7\" class=\"sk-toggleable__label fitted sk-toggleable__label-arrow fitted\">passthrough</label><div class=\"sk-toggleable__content fitted\"><pre>passthrough</pre></div> </div></div></div></div></div></div></div><div class=\"sk-item\"><div class=\"sk-estimator fitted sk-toggleable\"><input class=\"sk-toggleable__control sk-hidden--visually\" id=\"sk-estimator-id-8\" type=\"checkbox\" ><label for=\"sk-estimator-id-8\" class=\"sk-toggleable__label fitted sk-toggleable__label-arrow fitted\">&nbsp;DecisionTreeRegressor<a class=\"sk-estimator-doc-link fitted\" rel=\"noreferrer\" target=\"_blank\" href=\"https://scikit-learn.org/1.4/modules/generated/sklearn.tree.DecisionTreeRegressor.html\">?<span>Documentation for DecisionTreeRegressor</span></a></label><div class=\"sk-toggleable__content fitted\"><pre>DecisionTreeRegressor(random_state=42)</pre></div> </div></div></div></div></div></div></div></div></div></div></div>"
      ],
      "text/plain": [
       "RandomizedSearchCV(cv=TimeSeriesSplit(gap=0, max_train_size=None, n_splits=5, test_size=None),\n",
       "                   estimator=Pipeline(steps=[('preprocessor',\n",
       "                                              ColumnTransformer(remainder='passthrough',\n",
       "                                                                transformers=[('num',\n",
       "                                                                               MinMaxScaler(),\n",
       "                                                                               ['dayofweek',\n",
       "                                                                                'hour',\n",
       "                                                                                'day',\n",
       "                                                                                'month',\n",
       "                                                                                'lag_1',\n",
       "                                                                                'lag_2',\n",
       "                                                                                'lag_3',\n",
       "                                                                                'lag_4',\n",
       "                                                                                'lag_5',\n",
       "                                                                                'rolling_mean'])])),\n",
       "                                             ('models',\n",
       "                                              DecisionTreeRegressor(random_state=...\n",
       "                                         'models__min_samples_split': range(1, 10),\n",
       "                                         'preprocessor__num': [StandardScaler(),\n",
       "                                                               MinMaxScaler(),\n",
       "                                                               RobustScaler(),\n",
       "                                                               'passthrough']},\n",
       "                                        {'models': [SVR()],\n",
       "                                         'models__kernel': ['linear', 'poly',\n",
       "                                                            'rbf', 'sigmoid'],\n",
       "                                         'preprocessor__num': [StandardScaler(),\n",
       "                                                               MinMaxScaler(),\n",
       "                                                               RobustScaler(),\n",
       "                                                               'passthrough']}],\n",
       "                   random_state=42,\n",
       "                   scoring=make_scorer(rmse_score, greater_is_better=False, response_method='predict'))"
      ]
     },
     "execution_count": 24,
     "metadata": {},
     "output_type": "execute_result"
    }
   ],
   "source": [
    "#выполним обучение модели\n",
    "%time\n",
    "\n",
    "randomized_search.fit(X_train, y_train)"
   ]
  },
  {
   "cell_type": "code",
   "execution_count": 25,
   "metadata": {},
   "outputs": [
    {
     "name": "stdout",
     "output_type": "stream",
     "text": [
      "Лучшая модель: Pipeline(steps=[('preprocessor',\n",
      "                 ColumnTransformer(remainder='passthrough',\n",
      "                                   transformers=[('num', RobustScaler(),\n",
      "                                                  ['dayofweek', 'hour', 'day',\n",
      "                                                   'month', 'lag_1', 'lag_2',\n",
      "                                                   'lag_3', 'lag_4', 'lag_5',\n",
      "                                                   'rolling_mean'])])),\n",
      "                ('models',\n",
      "                 LGBMRegressor(max_depth=17, n_estimators=42, num_leaves=17,\n",
      "                               random_state=42))])\n",
      "Лучшие гиперпараметры модели: {'preprocessor__num': RobustScaler(), 'models__num_leaves': 17, 'models__n_estimators': 42, 'models__max_depth': 17, 'models': LGBMRegressor(random_state=42)}\n",
      "Метрика RMSE лучшей модели при кросс-валидации: 25.35\n"
     ]
    }
   ],
   "source": [
    "print('Лучшая модель:', randomized_search.best_estimator_)\n",
    "print('Лучшие гиперпараметры модели:', randomized_search.best_params_)\n",
    "print ('Метрика RMSE лучшей модели при кросс-валидации:', abs(randomized_search.best_score_.round(2)))\n",
    "\n",
    "rmse_train = abs(randomized_search.best_score_.round(2))"
   ]
  },
  {
   "cell_type": "markdown",
   "metadata": {},
   "source": [
    "**Вывод:**\n",
    "- В датасет были добавлены признаки с помощью функции. Тестовая выборка составляла 10% от исходных данных. \n",
    "- Все добавленные признаки являются числовыми. Был создан пайплайн, в котором будут перебираются четыре варианта масштабирования признаков: методы StandardScaler(), MinMaxScaler(), RobustScaler() и вариант без масштабирования.\n",
    "- Были обучены различные модели с различными гиперпараметрами для прогнозирования количества заказов такси на следующий час, чтобы привлекать больше водителей в период пиковой нагрузки: LinearRegression(), LassoRegression(), Ridge(), CatBoostRegressor(), LGBMRegressor(), DecisionTreeRegressor(), RandomForestRegressor().\n",
    "- С помощью итогового пайплайна на основе метрики RMSE была выбрана лучшая комбинация модели и гиперпараметров: LGBMRegressor(max_depth=17, n_estimators=42, num_leaves=17, random_state=42).\n",
    "- Метрика RMSE лучшей модели при кросс-валидации: 25.35."
   ]
  },
  {
   "cell_type": "markdown",
   "metadata": {},
   "source": [
    "## Тестирование"
   ]
  },
  {
   "cell_type": "markdown",
   "metadata": {},
   "source": [
    "Проверим работу модели на тестовой выборке. Рассчитаем прогноз на тестовых данных. Учтем, что значение метрики RMSE на тестовой выборке должно быть не больше 48."
   ]
  },
  {
   "cell_type": "code",
   "execution_count": 26,
   "metadata": {},
   "outputs": [
    {
     "name": "stdout",
     "output_type": "stream",
     "text": [
      "Метрика RMSE на тестовой выборке: 44.28\n"
     ]
    }
   ],
   "source": [
    "#проверим работу модели на тестовой выборке\n",
    "# рассчитайте прогноз на тестовых данных\n",
    "y_test_pred = randomized_search.predict(X_test)\n",
    "print(f'Метрика RMSE на тестовой выборке: {abs(root_mean_squared_error(y_test, y_test_pred).round(2))}')"
   ]
  },
  {
   "cell_type": "markdown",
   "metadata": {},
   "source": [
    "Визуализируем результат. В начале объединим данные в одну таблицу."
   ]
  },
  {
   "cell_type": "code",
   "execution_count": 27,
   "metadata": {},
   "outputs": [
    {
     "data": {
      "text/html": [
       "<div>\n",
       "<style scoped>\n",
       "    .dataframe tbody tr th:only-of-type {\n",
       "        vertical-align: middle;\n",
       "    }\n",
       "\n",
       "    .dataframe tbody tr th {\n",
       "        vertical-align: top;\n",
       "    }\n",
       "\n",
       "    .dataframe thead th {\n",
       "        text-align: right;\n",
       "    }\n",
       "</style>\n",
       "<table border=\"1\" class=\"dataframe\">\n",
       "  <thead>\n",
       "    <tr style=\"text-align: right;\">\n",
       "      <th></th>\n",
       "      <th>num_orders</th>\n",
       "    </tr>\n",
       "    <tr>\n",
       "      <th>datetime</th>\n",
       "      <th></th>\n",
       "    </tr>\n",
       "  </thead>\n",
       "  <tbody>\n",
       "    <tr>\n",
       "      <th>2018-08-13 14:00:00</th>\n",
       "      <td>102</td>\n",
       "    </tr>\n",
       "    <tr>\n",
       "      <th>2018-08-13 15:00:00</th>\n",
       "      <td>175</td>\n",
       "    </tr>\n",
       "    <tr>\n",
       "      <th>2018-08-13 16:00:00</th>\n",
       "      <td>144</td>\n",
       "    </tr>\n",
       "    <tr>\n",
       "      <th>2018-08-13 17:00:00</th>\n",
       "      <td>152</td>\n",
       "    </tr>\n",
       "    <tr>\n",
       "      <th>2018-08-13 18:00:00</th>\n",
       "      <td>104</td>\n",
       "    </tr>\n",
       "  </tbody>\n",
       "</table>\n",
       "</div>"
      ],
      "text/plain": [
       "                     num_orders\n",
       "datetime                       \n",
       "2018-08-13 14:00:00         102\n",
       "2018-08-13 15:00:00         175\n",
       "2018-08-13 16:00:00         144\n",
       "2018-08-13 17:00:00         152\n",
       "2018-08-13 18:00:00         104"
      ]
     },
     "execution_count": 27,
     "metadata": {},
     "output_type": "execute_result"
    }
   ],
   "source": [
    "y_test = pd.DataFrame(y_test)\n",
    "y_test.head()"
   ]
  },
  {
   "cell_type": "code",
   "execution_count": 28,
   "metadata": {},
   "outputs": [
    {
     "data": {
      "text/html": [
       "<div>\n",
       "<style scoped>\n",
       "    .dataframe tbody tr th:only-of-type {\n",
       "        vertical-align: middle;\n",
       "    }\n",
       "\n",
       "    .dataframe tbody tr th {\n",
       "        vertical-align: top;\n",
       "    }\n",
       "\n",
       "    .dataframe thead th {\n",
       "        text-align: right;\n",
       "    }\n",
       "</style>\n",
       "<table border=\"1\" class=\"dataframe\">\n",
       "  <thead>\n",
       "    <tr style=\"text-align: right;\">\n",
       "      <th></th>\n",
       "      <th>num_orders_pred</th>\n",
       "    </tr>\n",
       "  </thead>\n",
       "  <tbody>\n",
       "    <tr>\n",
       "      <th>0</th>\n",
       "      <td>101.579724</td>\n",
       "    </tr>\n",
       "    <tr>\n",
       "      <th>1</th>\n",
       "      <td>112.892560</td>\n",
       "    </tr>\n",
       "    <tr>\n",
       "      <th>2</th>\n",
       "      <td>127.114227</td>\n",
       "    </tr>\n",
       "    <tr>\n",
       "      <th>3</th>\n",
       "      <td>129.315016</td>\n",
       "    </tr>\n",
       "    <tr>\n",
       "      <th>4</th>\n",
       "      <td>106.185829</td>\n",
       "    </tr>\n",
       "  </tbody>\n",
       "</table>\n",
       "</div>"
      ],
      "text/plain": [
       "   num_orders_pred\n",
       "0       101.579724\n",
       "1       112.892560\n",
       "2       127.114227\n",
       "3       129.315016\n",
       "4       106.185829"
      ]
     },
     "execution_count": 28,
     "metadata": {},
     "output_type": "execute_result"
    }
   ],
   "source": [
    "y_test_pred = pd.DataFrame(y_test_pred, columns=['num_orders_pred'])\n",
    "y_test_pred.head()"
   ]
  },
  {
   "cell_type": "code",
   "execution_count": 29,
   "metadata": {},
   "outputs": [
    {
     "data": {
      "text/html": [
       "<div>\n",
       "<style scoped>\n",
       "    .dataframe tbody tr th:only-of-type {\n",
       "        vertical-align: middle;\n",
       "    }\n",
       "\n",
       "    .dataframe tbody tr th {\n",
       "        vertical-align: top;\n",
       "    }\n",
       "\n",
       "    .dataframe thead th {\n",
       "        text-align: right;\n",
       "    }\n",
       "</style>\n",
       "<table border=\"1\" class=\"dataframe\">\n",
       "  <thead>\n",
       "    <tr style=\"text-align: right;\">\n",
       "      <th></th>\n",
       "      <th>num_orders</th>\n",
       "      <th>num_orders_pred</th>\n",
       "    </tr>\n",
       "    <tr>\n",
       "      <th>datetime</th>\n",
       "      <th></th>\n",
       "      <th></th>\n",
       "    </tr>\n",
       "  </thead>\n",
       "  <tbody>\n",
       "    <tr>\n",
       "      <th>2018-08-13 14:00:00</th>\n",
       "      <td>102</td>\n",
       "      <td>101.579724</td>\n",
       "    </tr>\n",
       "    <tr>\n",
       "      <th>2018-08-13 15:00:00</th>\n",
       "      <td>175</td>\n",
       "      <td>112.892560</td>\n",
       "    </tr>\n",
       "    <tr>\n",
       "      <th>2018-08-13 16:00:00</th>\n",
       "      <td>144</td>\n",
       "      <td>127.114227</td>\n",
       "    </tr>\n",
       "    <tr>\n",
       "      <th>2018-08-13 17:00:00</th>\n",
       "      <td>152</td>\n",
       "      <td>129.315016</td>\n",
       "    </tr>\n",
       "    <tr>\n",
       "      <th>2018-08-13 18:00:00</th>\n",
       "      <td>104</td>\n",
       "      <td>106.185829</td>\n",
       "    </tr>\n",
       "  </tbody>\n",
       "</table>\n",
       "</div>"
      ],
      "text/plain": [
       "                     num_orders  num_orders_pred\n",
       "datetime                                        \n",
       "2018-08-13 14:00:00         102       101.579724\n",
       "2018-08-13 15:00:00         175       112.892560\n",
       "2018-08-13 16:00:00         144       127.114227\n",
       "2018-08-13 17:00:00         152       129.315016\n",
       "2018-08-13 18:00:00         104       106.185829"
      ]
     },
     "execution_count": 29,
     "metadata": {},
     "output_type": "execute_result"
    }
   ],
   "source": [
    "y_test_real_pred = pd.concat([y_test.reset_index(), y_test_pred], axis=1).set_index('datetime')\n",
    "y_test_real_pred.head()"
   ]
  },
  {
   "cell_type": "code",
   "execution_count": 30,
   "metadata": {},
   "outputs": [
    {
     "data": {
      "image/png": "[encoded data removed]",
      "text/plain": [
       "<Figure size 648x288 with 1 Axes>"
      ]
     },
     "metadata": {},
     "output_type": "display_data"
    }
   ],
   "source": [
    "y_test_real_pred.plot(title='Визуализация предсказанных значений лучшей модели и реальных тестовых данных', \n",
    "          ylabel='Количество заказов', figsize=(9,4))\n",
    "plt.show()"
   ]
  },
  {
   "cell_type": "markdown",
   "metadata": {},
   "source": [
    "**Вывод:**\n",
    "- Работа лучшей модели была проверена на тестовых данных, был рассчитан прогноз на тестовых данных. \n",
    "- Метрика RMSE на тестовой выборке: 44.28"
   ]
  },
  {
   "cell_type": "markdown",
   "metadata": {},
   "source": [
    "## Выводы"
   ]
  },
  {
   "cell_type": "markdown",
   "metadata": {},
   "source": [
    "Компания «Чётенькое такси» собрала исторические данные о заказах такси в аэропортах. Чтобы привлекать больше водителей в период пиковой нагрузки, необходимо спрогнозировать количество заказов такси на следующий час. Была построена модель для такого предсказания.\n",
    "\n",
    "**Основные выводы:**\n",
    "1. Подготовка данных.\n",
    "   - Была выполнена загрузка данных. В данных содержится 26496 записей о времени и количестве заказов `num_orders`. Пропуски в данных отсутствуют. Время было установлено индексом таблицы. Данные расположены в хронологическом порядке. В датасете представлена информация за период: с 2018-03-01 00:00:00 по 2018-08-31 23:00:00.\n",
    "   - Далее было выполнено ресемплирование данных по одному часу.\n",
    "2. Анализ данных.\n",
    "   - С помощью функции `seasonal_decomposed` было выполнено разложение временного ряда на 3 составляющие: тренд, сезонность и остаток. Были построены их графики. Данные представлены за период с марта по август включительно.\n",
    "   - Количество заказов в час изменяется от 0 до 462. При этом среднее число заказов за указанный период составляет 84.\n",
    "   - Cреднее значение количества заказов в целом возрастает от месяца к месяцу. Так, в марте число заказов за час не достигает 100, в то время как в августе доходит до 462 заказов в час. В течение каждого месяца наблюдаются пики и спады активности, похоже, связанные с днями недели. Циклические изменения данных, которые повторяются с постоянным интервалом времени, составляют примерно 55 заказов.\n",
    "   - Установлено, что временной ряд является нестационарным, так как меняется его среднее значение и стандартное отклонение. При этом разности временного ряда более стационарны, чем сам ряд.\n",
    "3. Обучение.\n",
    "   - В датасет были добавлены признаки с помощью функции. Тестовая выборка составляла 10% от исходных данных. \n",
    "   - Все добавленные признаки являются числовыми. Был создан пайплайн, в котором будут перебираются четыре варианта масштабирования признаков: методы StandardScaler(), MinMaxScaler(), RobustScaler() и вариант без масштабирования.\n",
    "   - Были обучены различные модели с различными гиперпараметрами для прогнозирования количества заказов такси на следующий час, чтобы привлекать больше водителей в период пиковой нагрузки: LinearRegression(), LassoRegression(), Ridge(), CatBoostRegressor(), LGBMRegressor(), DecisionTreeRegressor(), SVR().\n",
    "   - С помощью итогового пайплайна на основе метрики RMSE была выбрана лучшая комбинация модели и гиперпараметров: LGBMRegressor(max_depth=17, n_estimators=42, num_leaves=17, random_state=42).\n",
    "   - Метрика RMSE лучшей модели при кросс-валидации: 25.35.\n",
    "4. Тестирование.\n",
    "   - Работа лучшей модели была проверена на тестовых данных, был рассчитан прогноз на тестовых данных. \n",
    "   - Метрика RMSE на тестовой выборке: 44.28"
   ]
  }
 ],
 "metadata": {
  "ExecuteTimeLog": [
   {
    "duration": 5,
    "start_time": "2024-07-15T13:43:00.028Z"
   },
   {
    "duration": 18334,
    "start_time": "2024-07-15T13:51:30.435Z"
   },
   {
    "duration": 140,
    "start_time": "2024-07-15T13:51:48.771Z"
   },
   {
    "duration": 12,
    "start_time": "2024-07-15T13:52:02.391Z"
   },
   {
    "duration": 103,
    "start_time": "2024-07-15T13:52:08.270Z"
   },
   {
    "duration": 9851,
    "start_time": "2024-07-15T13:52:31.448Z"
   },
   {
    "duration": 55,
    "start_time": "2024-07-15T13:52:41.301Z"
   },
   {
    "duration": 16,
    "start_time": "2024-07-15T13:52:41.358Z"
   },
   {
    "duration": 0,
    "start_time": "2024-07-15T13:52:41.376Z"
   },
   {
    "duration": 0,
    "start_time": "2024-07-15T13:52:41.378Z"
   },
   {
    "duration": 0,
    "start_time": "2024-07-15T13:52:41.379Z"
   },
   {
    "duration": 14,
    "start_time": "2024-07-15T13:52:53.966Z"
   },
   {
    "duration": 5,
    "start_time": "2024-07-15T13:52:54.285Z"
   },
   {
    "duration": 11,
    "start_time": "2024-07-15T13:52:57.085Z"
   },
   {
    "duration": 3,
    "start_time": "2024-07-15T13:53:08.935Z"
   },
   {
    "duration": 8,
    "start_time": "2024-07-15T13:53:09.259Z"
   },
   {
    "duration": 3,
    "start_time": "2024-07-15T13:53:16.161Z"
   },
   {
    "duration": 8,
    "start_time": "2024-07-15T13:53:16.490Z"
   },
   {
    "duration": 50,
    "start_time": "2024-07-15T13:53:56.349Z"
   },
   {
    "duration": 7,
    "start_time": "2024-07-15T13:53:56.890Z"
   },
   {
    "duration": 5,
    "start_time": "2024-07-15T13:53:57.495Z"
   },
   {
    "duration": 12,
    "start_time": "2024-07-15T13:53:58.696Z"
   },
   {
    "duration": 6,
    "start_time": "2024-07-15T13:54:01.199Z"
   },
   {
    "duration": 15,
    "start_time": "2024-07-15T13:54:15.740Z"
   },
   {
    "duration": 5,
    "start_time": "2024-07-15T13:54:19.993Z"
   },
   {
    "duration": 11,
    "start_time": "2024-07-15T13:56:47.421Z"
   },
   {
    "duration": 3,
    "start_time": "2024-07-15T13:58:00.574Z"
   },
   {
    "duration": 11,
    "start_time": "2024-07-15T13:58:48.580Z"
   },
   {
    "duration": 9,
    "start_time": "2024-07-15T13:58:54.101Z"
   },
   {
    "duration": 10315,
    "start_time": "2024-07-15T13:59:01.114Z"
   },
   {
    "duration": 66,
    "start_time": "2024-07-15T13:59:11.432Z"
   },
   {
    "duration": 9,
    "start_time": "2024-07-15T13:59:11.500Z"
   },
   {
    "duration": 5,
    "start_time": "2024-07-15T13:59:11.511Z"
   },
   {
    "duration": 13,
    "start_time": "2024-07-15T13:59:11.518Z"
   },
   {
    "duration": 24,
    "start_time": "2024-07-15T13:59:11.533Z"
   },
   {
    "duration": 3,
    "start_time": "2024-07-15T13:59:11.559Z"
   },
   {
    "duration": 32,
    "start_time": "2024-07-15T13:59:11.564Z"
   },
   {
    "duration": 10256,
    "start_time": "2024-07-15T14:02:15.445Z"
   },
   {
    "duration": 56,
    "start_time": "2024-07-15T14:02:25.703Z"
   },
   {
    "duration": 8,
    "start_time": "2024-07-15T14:02:25.760Z"
   },
   {
    "duration": 4,
    "start_time": "2024-07-15T14:02:25.770Z"
   },
   {
    "duration": 19,
    "start_time": "2024-07-15T14:02:25.775Z"
   },
   {
    "duration": 5,
    "start_time": "2024-07-15T14:02:25.796Z"
   },
   {
    "duration": 17,
    "start_time": "2024-07-15T14:02:25.802Z"
   },
   {
    "duration": 8,
    "start_time": "2024-07-15T14:02:25.820Z"
   },
   {
    "duration": 129,
    "start_time": "2024-07-15T14:03:47.254Z"
   },
   {
    "duration": 6,
    "start_time": "2024-07-15T14:03:51.254Z"
   },
   {
    "duration": 191,
    "start_time": "2024-07-15T14:03:51.593Z"
   },
   {
    "duration": 204,
    "start_time": "2024-07-15T14:03:59.769Z"
   },
   {
    "duration": 182,
    "start_time": "2024-07-15T14:04:10.890Z"
   },
   {
    "duration": 873,
    "start_time": "2024-07-15T14:05:09.712Z"
   },
   {
    "duration": 14,
    "start_time": "2024-07-15T14:07:06.812Z"
   },
   {
    "duration": 12,
    "start_time": "2024-07-15T14:07:13.690Z"
   },
   {
    "duration": 18,
    "start_time": "2024-07-15T14:07:17.608Z"
   },
   {
    "duration": 14,
    "start_time": "2024-07-15T14:09:09.471Z"
   },
   {
    "duration": 6,
    "start_time": "2024-07-15T14:09:13.975Z"
   },
   {
    "duration": 6,
    "start_time": "2024-07-15T14:09:19.370Z"
   },
   {
    "duration": 60,
    "start_time": "2024-07-15T14:10:28.010Z"
   },
   {
    "duration": 10,
    "start_time": "2024-07-15T14:10:29.830Z"
   },
   {
    "duration": 11,
    "start_time": "2024-07-15T14:10:37.151Z"
   },
   {
    "duration": 11,
    "start_time": "2024-07-15T14:11:39.118Z"
   },
   {
    "duration": 11,
    "start_time": "2024-07-15T14:11:42.643Z"
   },
   {
    "duration": 597,
    "start_time": "2024-07-15T14:12:15.260Z"
   },
   {
    "duration": 1023,
    "start_time": "2024-07-15T14:13:07.378Z"
   },
   {
    "duration": 1025,
    "start_time": "2024-07-15T14:13:56.055Z"
   },
   {
    "duration": 994,
    "start_time": "2024-07-15T14:14:08.389Z"
   },
   {
    "duration": 1188,
    "start_time": "2024-07-15T14:14:13.694Z"
   },
   {
    "duration": 1004,
    "start_time": "2024-07-15T14:14:41.165Z"
   },
   {
    "duration": 1001,
    "start_time": "2024-07-15T14:14:49.754Z"
   },
   {
    "duration": 156,
    "start_time": "2024-07-15T14:16:11.441Z"
   },
   {
    "duration": 970,
    "start_time": "2024-07-15T14:17:09.204Z"
   },
   {
    "duration": 979,
    "start_time": "2024-07-15T14:17:17.743Z"
   },
   {
    "duration": 10362,
    "start_time": "2024-07-15T14:24:45.926Z"
   },
   {
    "duration": 53,
    "start_time": "2024-07-15T14:24:56.291Z"
   },
   {
    "duration": 11,
    "start_time": "2024-07-15T14:24:56.346Z"
   },
   {
    "duration": 6,
    "start_time": "2024-07-15T14:24:56.359Z"
   },
   {
    "duration": 12,
    "start_time": "2024-07-15T14:24:56.366Z"
   },
   {
    "duration": 22,
    "start_time": "2024-07-15T14:24:56.379Z"
   },
   {
    "duration": 18,
    "start_time": "2024-07-15T14:24:56.403Z"
   },
   {
    "duration": 15,
    "start_time": "2024-07-15T14:24:56.422Z"
   },
   {
    "duration": 7,
    "start_time": "2024-07-15T14:24:56.439Z"
   },
   {
    "duration": 1050,
    "start_time": "2024-07-15T14:24:56.449Z"
   },
   {
    "duration": 5,
    "start_time": "2024-07-15T14:25:36.974Z"
   },
   {
    "duration": 3,
    "start_time": "2024-07-15T14:25:46.295Z"
   },
   {
    "duration": 17,
    "start_time": "2024-07-15T14:26:19.084Z"
   },
   {
    "duration": 11,
    "start_time": "2024-07-15T14:26:23.385Z"
   },
   {
    "duration": 4,
    "start_time": "2024-07-15T14:26:29.504Z"
   },
   {
    "duration": 1136,
    "start_time": "2024-07-15T14:27:01.416Z"
   },
   {
    "duration": 1247,
    "start_time": "2024-07-15T14:27:09.973Z"
   },
   {
    "duration": 1111,
    "start_time": "2024-07-15T14:27:21.223Z"
   },
   {
    "duration": 1087,
    "start_time": "2024-07-15T14:27:53.783Z"
   },
   {
    "duration": 1298,
    "start_time": "2024-07-15T14:28:00.087Z"
   },
   {
    "duration": 1123,
    "start_time": "2024-07-15T14:28:17.333Z"
   },
   {
    "duration": 1130,
    "start_time": "2024-07-15T14:28:29.475Z"
   },
   {
    "duration": 306,
    "start_time": "2024-07-15T14:31:38.115Z"
   },
   {
    "duration": 293,
    "start_time": "2024-07-15T14:34:17.602Z"
   },
   {
    "duration": 1086,
    "start_time": "2024-07-15T14:39:02.435Z"
   },
   {
    "duration": 921,
    "start_time": "2024-07-15T14:39:09.648Z"
   },
   {
    "duration": 930,
    "start_time": "2024-07-15T14:39:12.478Z"
   },
   {
    "duration": 923,
    "start_time": "2024-07-15T14:39:20.195Z"
   },
   {
    "duration": 13,
    "start_time": "2024-07-15T14:39:33.728Z"
   },
   {
    "duration": 15,
    "start_time": "2024-07-15T14:39:42.595Z"
   },
   {
    "duration": 13,
    "start_time": "2024-07-15T14:39:47.389Z"
   },
   {
    "duration": 14,
    "start_time": "2024-07-15T14:39:52.962Z"
   },
   {
    "duration": 12,
    "start_time": "2024-07-15T14:40:24.436Z"
   },
   {
    "duration": 1091,
    "start_time": "2024-07-15T14:40:55.068Z"
   },
   {
    "duration": 71,
    "start_time": "2024-07-15T14:41:08.301Z"
   },
   {
    "duration": 1574,
    "start_time": "2024-07-15T14:41:11.493Z"
   },
   {
    "duration": 1141,
    "start_time": "2024-07-15T14:41:26.930Z"
   },
   {
    "duration": 14,
    "start_time": "2024-07-15T14:43:27.064Z"
   },
   {
    "duration": 322,
    "start_time": "2024-07-15T14:49:07.737Z"
   },
   {
    "duration": 318,
    "start_time": "2024-07-15T14:49:22.195Z"
   },
   {
    "duration": 466,
    "start_time": "2024-07-15T14:49:28.971Z"
   },
   {
    "duration": 345,
    "start_time": "2024-07-15T14:51:50.225Z"
   },
   {
    "duration": 337,
    "start_time": "2024-07-15T14:51:54.424Z"
   },
   {
    "duration": 319,
    "start_time": "2024-07-15T14:52:07.824Z"
   },
   {
    "duration": 15,
    "start_time": "2024-07-15T14:52:12.748Z"
   },
   {
    "duration": 12,
    "start_time": "2024-07-15T14:52:33.786Z"
   },
   {
    "duration": 356,
    "start_time": "2024-07-15T14:53:24.251Z"
   },
   {
    "duration": 352,
    "start_time": "2024-07-15T14:53:32.026Z"
   },
   {
    "duration": 452,
    "start_time": "2024-07-15T14:53:49.531Z"
   },
   {
    "duration": 145,
    "start_time": "2024-07-15T14:55:03.938Z"
   },
   {
    "duration": 197,
    "start_time": "2024-07-15T14:55:07.779Z"
   },
   {
    "duration": 334,
    "start_time": "2024-07-15T14:55:10.855Z"
   },
   {
    "duration": 14,
    "start_time": "2024-07-15T14:55:43.458Z"
   },
   {
    "duration": 9874,
    "start_time": "2024-07-15T14:55:48.254Z"
   },
   {
    "duration": 54,
    "start_time": "2024-07-15T14:55:58.130Z"
   },
   {
    "duration": 8,
    "start_time": "2024-07-15T14:55:58.186Z"
   },
   {
    "duration": 11,
    "start_time": "2024-07-15T14:55:58.196Z"
   },
   {
    "duration": 13,
    "start_time": "2024-07-15T14:55:58.208Z"
   },
   {
    "duration": 15,
    "start_time": "2024-07-15T14:55:58.222Z"
   },
   {
    "duration": 18,
    "start_time": "2024-07-15T14:55:58.239Z"
   },
   {
    "duration": 5,
    "start_time": "2024-07-15T14:55:58.259Z"
   },
   {
    "duration": 7,
    "start_time": "2024-07-15T14:55:58.266Z"
   },
   {
    "duration": 29,
    "start_time": "2024-07-15T14:55:58.274Z"
   },
   {
    "duration": 21,
    "start_time": "2024-07-15T14:55:58.305Z"
   },
   {
    "duration": 1141,
    "start_time": "2024-07-15T14:55:58.327Z"
   },
   {
    "duration": 362,
    "start_time": "2024-07-15T14:55:59.470Z"
   },
   {
    "duration": 337,
    "start_time": "2024-07-15T14:57:30.634Z"
   },
   {
    "duration": 529,
    "start_time": "2024-07-15T14:57:46.317Z"
   },
   {
    "duration": 364,
    "start_time": "2024-07-15T15:00:06.778Z"
   },
   {
    "duration": 360,
    "start_time": "2024-07-15T15:01:05.154Z"
   },
   {
    "duration": 348,
    "start_time": "2024-07-15T15:01:18.114Z"
   },
   {
    "duration": 375,
    "start_time": "2024-07-15T15:01:28.674Z"
   },
   {
    "duration": 538,
    "start_time": "2024-07-15T15:02:27.458Z"
   },
   {
    "duration": 374,
    "start_time": "2024-07-15T15:03:37.167Z"
   },
   {
    "duration": 375,
    "start_time": "2024-07-15T15:03:45.107Z"
   },
   {
    "duration": 372,
    "start_time": "2024-07-15T15:04:00.339Z"
   },
   {
    "duration": 396,
    "start_time": "2024-07-15T15:04:03.138Z"
   },
   {
    "duration": 378,
    "start_time": "2024-07-15T15:04:06.472Z"
   },
   {
    "duration": 9949,
    "start_time": "2024-07-15T15:06:47.485Z"
   },
   {
    "duration": 53,
    "start_time": "2024-07-15T15:06:57.436Z"
   },
   {
    "duration": 7,
    "start_time": "2024-07-15T15:06:57.491Z"
   },
   {
    "duration": 22,
    "start_time": "2024-07-15T15:06:57.500Z"
   },
   {
    "duration": 13,
    "start_time": "2024-07-15T15:06:57.525Z"
   },
   {
    "duration": 22,
    "start_time": "2024-07-15T15:06:57.539Z"
   },
   {
    "duration": 17,
    "start_time": "2024-07-15T15:06:57.562Z"
   },
   {
    "duration": 14,
    "start_time": "2024-07-15T15:06:57.581Z"
   },
   {
    "duration": 24,
    "start_time": "2024-07-15T15:06:57.596Z"
   },
   {
    "duration": 24,
    "start_time": "2024-07-15T15:06:57.624Z"
   },
   {
    "duration": 9,
    "start_time": "2024-07-15T15:06:57.650Z"
   },
   {
    "duration": 1127,
    "start_time": "2024-07-15T15:06:57.661Z"
   },
   {
    "duration": 560,
    "start_time": "2024-07-15T15:06:58.789Z"
   },
   {
    "duration": 54,
    "start_time": "2024-07-15T15:06:59.351Z"
   },
   {
    "duration": 0,
    "start_time": "2024-07-15T15:06:59.406Z"
   },
   {
    "duration": 16,
    "start_time": "2024-07-15T15:08:06.824Z"
   },
   {
    "duration": 420,
    "start_time": "2024-07-15T15:08:14.750Z"
   },
   {
    "duration": 411,
    "start_time": "2024-07-15T15:08:42.658Z"
   },
   {
    "duration": 9,
    "start_time": "2024-07-15T15:10:34.208Z"
   },
   {
    "duration": 10015,
    "start_time": "2024-07-15T15:10:59.210Z"
   },
   {
    "duration": 58,
    "start_time": "2024-07-15T15:11:09.227Z"
   },
   {
    "duration": 9,
    "start_time": "2024-07-15T15:11:09.286Z"
   },
   {
    "duration": 29,
    "start_time": "2024-07-15T15:11:09.297Z"
   },
   {
    "duration": 12,
    "start_time": "2024-07-15T15:11:09.328Z"
   },
   {
    "duration": 7,
    "start_time": "2024-07-15T15:11:09.342Z"
   },
   {
    "duration": 10,
    "start_time": "2024-07-15T15:11:09.350Z"
   },
   {
    "duration": 7,
    "start_time": "2024-07-15T15:11:09.361Z"
   },
   {
    "duration": 53,
    "start_time": "2024-07-15T15:11:09.370Z"
   },
   {
    "duration": 32,
    "start_time": "2024-07-15T15:11:09.426Z"
   },
   {
    "duration": 8,
    "start_time": "2024-07-15T15:11:09.460Z"
   },
   {
    "duration": 1210,
    "start_time": "2024-07-15T15:11:09.470Z"
   },
   {
    "duration": 398,
    "start_time": "2024-07-15T15:11:10.683Z"
   },
   {
    "duration": 421,
    "start_time": "2024-07-15T15:11:11.083Z"
   },
   {
    "duration": 8,
    "start_time": "2024-07-15T15:11:12.504Z"
   },
   {
    "duration": 6,
    "start_time": "2024-07-15T15:11:32.061Z"
   },
   {
    "duration": 5,
    "start_time": "2024-07-15T15:12:02.605Z"
   },
   {
    "duration": 10070,
    "start_time": "2024-07-15T15:12:07.419Z"
   },
   {
    "duration": 55,
    "start_time": "2024-07-15T15:12:17.492Z"
   },
   {
    "duration": 9,
    "start_time": "2024-07-15T15:12:17.549Z"
   },
   {
    "duration": 5,
    "start_time": "2024-07-15T15:12:17.560Z"
   },
   {
    "duration": 12,
    "start_time": "2024-07-15T15:12:17.566Z"
   },
   {
    "duration": 7,
    "start_time": "2024-07-15T15:12:17.581Z"
   },
   {
    "duration": 4,
    "start_time": "2024-07-15T15:12:17.590Z"
   },
   {
    "duration": 11,
    "start_time": "2024-07-15T15:12:17.595Z"
   },
   {
    "duration": 34,
    "start_time": "2024-07-15T15:12:17.609Z"
   },
   {
    "duration": 13,
    "start_time": "2024-07-15T15:12:17.656Z"
   },
   {
    "duration": 9,
    "start_time": "2024-07-15T15:12:17.671Z"
   },
   {
    "duration": 1409,
    "start_time": "2024-07-15T15:12:17.682Z"
   },
   {
    "duration": 401,
    "start_time": "2024-07-15T15:12:19.094Z"
   },
   {
    "duration": 397,
    "start_time": "2024-07-15T15:12:19.497Z"
   },
   {
    "duration": 9,
    "start_time": "2024-07-15T15:12:19.896Z"
   },
   {
    "duration": 3,
    "start_time": "2024-07-15T15:14:39.695Z"
   },
   {
    "duration": 4,
    "start_time": "2024-07-15T15:17:13.945Z"
   },
   {
    "duration": 20,
    "start_time": "2024-07-15T15:17:14.535Z"
   },
   {
    "duration": 9,
    "start_time": "2024-07-15T15:19:07.075Z"
   },
   {
    "duration": 61,
    "start_time": "2024-07-15T15:19:19.303Z"
   },
   {
    "duration": 33,
    "start_time": "2024-07-15T15:20:06.925Z"
   },
   {
    "duration": 12,
    "start_time": "2024-07-15T15:22:52.686Z"
   },
   {
    "duration": 10038,
    "start_time": "2024-07-15T15:22:58.193Z"
   },
   {
    "duration": 29,
    "start_time": "2024-07-15T15:23:08.233Z"
   },
   {
    "duration": 3,
    "start_time": "2024-07-15T15:24:35.550Z"
   },
   {
    "duration": 83,
    "start_time": "2024-07-15T15:24:42.880Z"
   },
   {
    "duration": 114,
    "start_time": "2024-07-15T15:24:48.949Z"
   },
   {
    "duration": 55,
    "start_time": "2024-07-15T15:24:53.301Z"
   },
   {
    "duration": 15,
    "start_time": "2024-07-15T15:24:54.860Z"
   },
   {
    "duration": 15,
    "start_time": "2024-07-15T15:25:09.034Z"
   },
   {
    "duration": 36,
    "start_time": "2024-07-15T15:25:13.320Z"
   },
   {
    "duration": 63,
    "start_time": "2024-07-15T15:25:18.293Z"
   },
   {
    "duration": 16,
    "start_time": "2024-07-15T15:25:21.030Z"
   },
   {
    "duration": 15,
    "start_time": "2024-07-15T15:25:24.120Z"
   },
   {
    "duration": 16,
    "start_time": "2024-07-15T15:25:27.460Z"
   },
   {
    "duration": 4,
    "start_time": "2024-07-15T15:26:27.993Z"
   },
   {
    "duration": 19,
    "start_time": "2024-07-15T15:26:28.463Z"
   },
   {
    "duration": 71,
    "start_time": "2024-07-15T15:26:28.953Z"
   },
   {
    "duration": 3,
    "start_time": "2024-07-15T15:26:36.530Z"
   },
   {
    "duration": 49863,
    "start_time": "2024-07-15T15:26:37.381Z"
   },
   {
    "duration": 4,
    "start_time": "2024-07-15T15:27:27.246Z"
   },
   {
    "duration": 5,
    "start_time": "2024-07-15T15:27:27.251Z"
   },
   {
    "duration": 4,
    "start_time": "2024-07-15T15:29:23.512Z"
   },
   {
    "duration": 4,
    "start_time": "2024-07-15T15:29:24.043Z"
   },
   {
    "duration": 54340,
    "start_time": "2024-07-15T15:29:24.939Z"
   },
   {
    "duration": 4,
    "start_time": "2024-07-15T15:30:19.280Z"
   },
   {
    "duration": 3,
    "start_time": "2024-07-15T15:30:19.286Z"
   },
   {
    "duration": 8,
    "start_time": "2024-07-15T15:30:54.351Z"
   },
   {
    "duration": 4,
    "start_time": "2024-07-15T15:30:54.930Z"
   },
   {
    "duration": 137832,
    "start_time": "2024-07-15T15:30:55.731Z"
   },
   {
    "duration": 5,
    "start_time": "2024-07-15T15:33:13.564Z"
   },
   {
    "duration": 29,
    "start_time": "2024-07-15T15:33:13.571Z"
   },
   {
    "duration": 42,
    "start_time": "2024-07-15T15:33:13.602Z"
   },
   {
    "duration": 37,
    "start_time": "2024-07-15T15:33:13.645Z"
   },
   {
    "duration": 18,
    "start_time": "2024-07-15T15:33:13.684Z"
   },
   {
    "duration": 1494,
    "start_time": "2024-07-15T15:33:13.703Z"
   },
   {
    "duration": 6,
    "start_time": "2024-07-15T15:33:15.198Z"
   },
   {
    "duration": 25,
    "start_time": "2024-07-15T15:33:15.205Z"
   },
   {
    "duration": 7,
    "start_time": "2024-07-15T15:34:28.471Z"
   },
   {
    "duration": 18,
    "start_time": "2024-07-15T15:34:37.362Z"
   },
   {
    "duration": 8,
    "start_time": "2024-07-15T15:34:50.661Z"
   },
   {
    "duration": 15,
    "start_time": "2024-07-15T15:34:50.982Z"
   },
   {
    "duration": 11320,
    "start_time": "2024-07-15T15:35:32.524Z"
   },
   {
    "duration": 69,
    "start_time": "2024-07-15T15:35:43.846Z"
   },
   {
    "duration": 14,
    "start_time": "2024-07-15T15:35:43.917Z"
   },
   {
    "duration": 5,
    "start_time": "2024-07-15T15:35:43.932Z"
   },
   {
    "duration": 12,
    "start_time": "2024-07-15T15:35:43.939Z"
   },
   {
    "duration": 6,
    "start_time": "2024-07-15T15:35:43.952Z"
   },
   {
    "duration": 4,
    "start_time": "2024-07-15T15:35:43.959Z"
   },
   {
    "duration": 7,
    "start_time": "2024-07-15T15:35:43.964Z"
   },
   {
    "duration": 10,
    "start_time": "2024-07-15T15:35:43.973Z"
   },
   {
    "duration": 12,
    "start_time": "2024-07-15T15:35:43.984Z"
   },
   {
    "duration": 31,
    "start_time": "2024-07-15T15:35:43.998Z"
   },
   {
    "duration": 1278,
    "start_time": "2024-07-15T15:35:44.031Z"
   },
   {
    "duration": 377,
    "start_time": "2024-07-15T15:35:45.310Z"
   },
   {
    "duration": 402,
    "start_time": "2024-07-15T15:35:45.690Z"
   },
   {
    "duration": 8,
    "start_time": "2024-07-15T15:35:46.094Z"
   },
   {
    "duration": 11,
    "start_time": "2024-07-15T15:35:46.103Z"
   },
   {
    "duration": 30,
    "start_time": "2024-07-15T15:35:46.115Z"
   },
   {
    "duration": 14,
    "start_time": "2024-07-15T15:35:46.147Z"
   },
   {
    "duration": 93,
    "start_time": "2024-07-15T15:35:46.163Z"
   },
   {
    "duration": 200,
    "start_time": "2024-07-15T15:35:46.258Z"
   },
   {
    "duration": 109,
    "start_time": "2024-07-15T15:35:46.463Z"
   },
   {
    "duration": 89,
    "start_time": "2024-07-15T15:35:46.574Z"
   },
   {
    "duration": 102,
    "start_time": "2024-07-15T15:35:46.665Z"
   },
   {
    "duration": 50960,
    "start_time": "2024-07-15T15:35:46.768Z"
   },
   {
    "duration": 4,
    "start_time": "2024-07-15T15:36:37.729Z"
   },
   {
    "duration": 17,
    "start_time": "2024-07-15T15:36:37.735Z"
   },
   {
    "duration": 24,
    "start_time": "2024-07-15T15:36:37.754Z"
   },
   {
    "duration": 18,
    "start_time": "2024-07-15T15:36:37.780Z"
   },
   {
    "duration": 121668,
    "start_time": "2024-07-15T15:36:37.799Z"
   },
   {
    "duration": 4,
    "start_time": "2024-07-15T15:38:39.469Z"
   },
   {
    "duration": 11,
    "start_time": "2024-07-15T15:38:39.474Z"
   },
   {
    "duration": 8,
    "start_time": "2024-07-15T15:38:39.555Z"
   },
   {
    "duration": 45,
    "start_time": "2024-07-15T15:38:39.565Z"
   },
   {
    "duration": 3,
    "start_time": "2024-07-15T15:38:39.611Z"
   },
   {
    "duration": 1447,
    "start_time": "2024-07-15T15:38:39.616Z"
   },
   {
    "duration": 4,
    "start_time": "2024-07-15T15:38:41.065Z"
   },
   {
    "duration": 13,
    "start_time": "2024-07-15T15:38:41.070Z"
   },
   {
    "duration": 7,
    "start_time": "2024-07-15T15:38:41.085Z"
   },
   {
    "duration": 14,
    "start_time": "2024-07-15T15:38:41.094Z"
   },
   {
    "duration": 43,
    "start_time": "2024-07-16T05:22:11.770Z"
   },
   {
    "duration": 5,
    "start_time": "2024-07-16T05:22:14.450Z"
   },
   {
    "duration": 18045,
    "start_time": "2024-07-16T05:22:17.880Z"
   },
   {
    "duration": 97,
    "start_time": "2024-07-16T05:22:35.926Z"
   },
   {
    "duration": 9,
    "start_time": "2024-07-16T05:22:36.025Z"
   },
   {
    "duration": 35,
    "start_time": "2024-07-16T05:22:36.036Z"
   },
   {
    "duration": 24,
    "start_time": "2024-07-16T05:22:36.072Z"
   },
   {
    "duration": 18,
    "start_time": "2024-07-16T05:22:36.097Z"
   },
   {
    "duration": 54,
    "start_time": "2024-07-16T05:22:36.117Z"
   },
   {
    "duration": 90,
    "start_time": "2024-07-16T05:22:36.173Z"
   },
   {
    "duration": 93,
    "start_time": "2024-07-16T05:22:36.265Z"
   },
   {
    "duration": 10,
    "start_time": "2024-07-16T05:22:36.361Z"
   },
   {
    "duration": 8,
    "start_time": "2024-07-16T05:22:36.372Z"
   },
   {
    "duration": 1118,
    "start_time": "2024-07-16T05:22:36.382Z"
   },
   {
    "duration": 330,
    "start_time": "2024-07-16T05:22:37.502Z"
   },
   {
    "duration": 352,
    "start_time": "2024-07-16T05:22:37.834Z"
   },
   {
    "duration": 14,
    "start_time": "2024-07-16T05:22:38.188Z"
   },
   {
    "duration": 8,
    "start_time": "2024-07-16T05:22:38.203Z"
   },
   {
    "duration": 32,
    "start_time": "2024-07-16T05:22:38.212Z"
   },
   {
    "duration": 79,
    "start_time": "2024-07-16T05:22:38.246Z"
   },
   {
    "duration": 4,
    "start_time": "2024-07-16T05:22:40.650Z"
   },
   {
    "duration": 3,
    "start_time": "2024-07-16T05:22:57.344Z"
   },
   {
    "duration": 2,
    "start_time": "2024-07-16T05:22:59.930Z"
   },
   {
    "duration": 8,
    "start_time": "2024-07-16T05:29:02.791Z"
   },
   {
    "duration": 10702,
    "start_time": "2024-07-16T05:29:16.524Z"
   },
   {
    "duration": 64,
    "start_time": "2024-07-16T05:29:27.229Z"
   },
   {
    "duration": 21,
    "start_time": "2024-07-16T05:29:27.294Z"
   },
   {
    "duration": 4,
    "start_time": "2024-07-16T05:29:27.317Z"
   },
   {
    "duration": 24,
    "start_time": "2024-07-16T05:29:27.323Z"
   },
   {
    "duration": 15,
    "start_time": "2024-07-16T05:29:27.348Z"
   },
   {
    "duration": 6,
    "start_time": "2024-07-16T05:29:27.365Z"
   },
   {
    "duration": 8,
    "start_time": "2024-07-16T05:29:27.373Z"
   },
   {
    "duration": 13,
    "start_time": "2024-07-16T05:29:27.382Z"
   },
   {
    "duration": 18,
    "start_time": "2024-07-16T05:29:27.397Z"
   },
   {
    "duration": 7,
    "start_time": "2024-07-16T05:29:27.416Z"
   },
   {
    "duration": 1131,
    "start_time": "2024-07-16T05:29:27.424Z"
   },
   {
    "duration": 439,
    "start_time": "2024-07-16T05:29:28.556Z"
   },
   {
    "duration": 369,
    "start_time": "2024-07-16T05:29:28.996Z"
   },
   {
    "duration": 8,
    "start_time": "2024-07-16T05:29:29.367Z"
   },
   {
    "duration": 10,
    "start_time": "2024-07-16T05:29:29.376Z"
   },
   {
    "duration": 36,
    "start_time": "2024-07-16T05:29:29.387Z"
   },
   {
    "duration": 8,
    "start_time": "2024-07-16T05:29:29.424Z"
   },
   {
    "duration": 15,
    "start_time": "2024-07-16T05:29:29.434Z"
   },
   {
    "duration": 9690,
    "start_time": "2024-07-16T05:50:51.861Z"
   },
   {
    "duration": 48,
    "start_time": "2024-07-16T05:51:01.553Z"
   },
   {
    "duration": 16,
    "start_time": "2024-07-16T05:51:01.602Z"
   },
   {
    "duration": 34,
    "start_time": "2024-07-16T05:51:01.619Z"
   },
   {
    "duration": 36,
    "start_time": "2024-07-16T05:51:01.654Z"
   },
   {
    "duration": 36,
    "start_time": "2024-07-16T05:51:01.691Z"
   },
   {
    "duration": 9,
    "start_time": "2024-07-16T05:51:01.728Z"
   },
   {
    "duration": 12,
    "start_time": "2024-07-16T05:51:01.738Z"
   },
   {
    "duration": 20,
    "start_time": "2024-07-16T05:51:01.751Z"
   },
   {
    "duration": 48,
    "start_time": "2024-07-16T05:51:01.773Z"
   },
   {
    "duration": 24,
    "start_time": "2024-07-16T05:51:01.822Z"
   },
   {
    "duration": 1005,
    "start_time": "2024-07-16T05:51:01.847Z"
   },
   {
    "duration": 382,
    "start_time": "2024-07-16T05:51:02.854Z"
   },
   {
    "duration": 319,
    "start_time": "2024-07-16T05:51:03.238Z"
   },
   {
    "duration": 7,
    "start_time": "2024-07-16T05:51:03.558Z"
   },
   {
    "duration": 12,
    "start_time": "2024-07-16T05:51:03.566Z"
   },
   {
    "duration": 26,
    "start_time": "2024-07-16T05:51:03.579Z"
   },
   {
    "duration": 8,
    "start_time": "2024-07-16T05:51:03.606Z"
   },
   {
    "duration": 2,
    "start_time": "2024-07-16T05:51:05.184Z"
   },
   {
    "duration": 2,
    "start_time": "2024-07-16T05:51:29.572Z"
   },
   {
    "duration": 3,
    "start_time": "2024-07-16T05:51:32.863Z"
   },
   {
    "duration": 9781,
    "start_time": "2024-07-16T06:04:55.869Z"
   },
   {
    "duration": 56,
    "start_time": "2024-07-16T06:05:05.653Z"
   },
   {
    "duration": 7,
    "start_time": "2024-07-16T06:05:05.710Z"
   },
   {
    "duration": 45,
    "start_time": "2024-07-16T06:05:05.719Z"
   },
   {
    "duration": 24,
    "start_time": "2024-07-16T06:05:05.765Z"
   },
   {
    "duration": 13,
    "start_time": "2024-07-16T06:05:05.790Z"
   },
   {
    "duration": 15,
    "start_time": "2024-07-16T06:05:05.805Z"
   },
   {
    "duration": 10,
    "start_time": "2024-07-16T06:05:05.821Z"
   },
   {
    "duration": 25,
    "start_time": "2024-07-16T06:05:05.832Z"
   },
   {
    "duration": 19,
    "start_time": "2024-07-16T06:05:05.860Z"
   },
   {
    "duration": 32,
    "start_time": "2024-07-16T06:05:05.880Z"
   },
   {
    "duration": 987,
    "start_time": "2024-07-16T06:05:05.913Z"
   },
   {
    "duration": 415,
    "start_time": "2024-07-16T06:05:06.901Z"
   },
   {
    "duration": 342,
    "start_time": "2024-07-16T06:05:07.317Z"
   },
   {
    "duration": 6,
    "start_time": "2024-07-16T06:05:07.661Z"
   },
   {
    "duration": 6,
    "start_time": "2024-07-16T06:05:07.668Z"
   },
   {
    "duration": 35,
    "start_time": "2024-07-16T06:05:07.676Z"
   },
   {
    "duration": 10,
    "start_time": "2024-07-16T06:05:07.712Z"
   },
   {
    "duration": 25,
    "start_time": "2024-07-16T06:05:07.724Z"
   },
   {
    "duration": 25,
    "start_time": "2024-07-16T06:05:07.752Z"
   },
   {
    "duration": 9,
    "start_time": "2024-07-16T06:05:07.779Z"
   },
   {
    "duration": 72,
    "start_time": "2024-07-16T06:05:07.802Z"
   },
   {
    "duration": 85,
    "start_time": "2024-07-16T06:07:30.753Z"
   },
   {
    "duration": 68,
    "start_time": "2024-07-16T06:08:16.189Z"
   },
   {
    "duration": 6,
    "start_time": "2024-07-16T06:08:36.053Z"
   },
   {
    "duration": 7590,
    "start_time": "2024-07-16T06:08:42.794Z"
   },
   {
    "duration": 3,
    "start_time": "2024-07-16T06:10:06.591Z"
   },
   {
    "duration": 3,
    "start_time": "2024-07-16T06:10:08.177Z"
   },
   {
    "duration": 7,
    "start_time": "2024-07-16T06:10:08.899Z"
   },
   {
    "duration": 2,
    "start_time": "2024-07-16T06:10:19.051Z"
   },
   {
    "duration": 2,
    "start_time": "2024-07-16T06:10:19.643Z"
   },
   {
    "duration": 7,
    "start_time": "2024-07-16T06:10:20.235Z"
   },
   {
    "duration": 3712,
    "start_time": "2024-07-16T06:10:20.854Z"
   },
   {
    "duration": 13,
    "start_time": "2024-07-16T06:10:40.044Z"
   },
   {
    "duration": 8,
    "start_time": "2024-07-16T06:11:43.943Z"
   },
   {
    "duration": 105,
    "start_time": "2024-07-16T06:11:52.117Z"
   },
   {
    "duration": 7,
    "start_time": "2024-07-16T06:11:57.401Z"
   },
   {
    "duration": 7,
    "start_time": "2024-07-16T06:16:37.060Z"
   },
   {
    "duration": 13853,
    "start_time": "2024-07-16T06:16:37.685Z"
   },
   {
    "duration": 8,
    "start_time": "2024-07-16T06:16:51.540Z"
   },
   {
    "duration": 42,
    "start_time": "2024-07-16T06:16:56.764Z"
   },
   {
    "duration": 7,
    "start_time": "2024-07-16T06:17:24.866Z"
   },
   {
    "duration": 14907,
    "start_time": "2024-07-16T06:17:25.137Z"
   },
   {
    "duration": 7,
    "start_time": "2024-07-16T06:17:40.046Z"
   },
   {
    "duration": 48,
    "start_time": "2024-07-16T06:17:40.054Z"
   },
   {
    "duration": 6,
    "start_time": "2024-07-16T06:18:01.321Z"
   },
   {
    "duration": 12084,
    "start_time": "2024-07-16T06:18:01.762Z"
   },
   {
    "duration": 7,
    "start_time": "2024-07-16T06:18:13.848Z"
   },
   {
    "duration": 48,
    "start_time": "2024-07-16T06:18:13.856Z"
   },
   {
    "duration": 6,
    "start_time": "2024-07-16T06:18:23.880Z"
   },
   {
    "duration": 14611,
    "start_time": "2024-07-16T06:18:24.232Z"
   },
   {
    "duration": 8,
    "start_time": "2024-07-16T06:18:38.845Z"
   },
   {
    "duration": 44,
    "start_time": "2024-07-16T06:18:38.854Z"
   },
   {
    "duration": 6,
    "start_time": "2024-07-16T06:18:52.157Z"
   },
   {
    "duration": 8330,
    "start_time": "2024-07-16T06:18:52.583Z"
   },
   {
    "duration": 7,
    "start_time": "2024-07-16T06:19:00.915Z"
   },
   {
    "duration": 43,
    "start_time": "2024-07-16T06:19:00.923Z"
   },
   {
    "duration": 7,
    "start_time": "2024-07-16T06:19:14.224Z"
   },
   {
    "duration": 17652,
    "start_time": "2024-07-16T06:19:14.596Z"
   },
   {
    "duration": 54,
    "start_time": "2024-07-16T06:19:32.250Z"
   },
   {
    "duration": 13,
    "start_time": "2024-07-16T06:19:32.305Z"
   },
   {
    "duration": 31,
    "start_time": "2024-07-16T06:19:44.184Z"
   },
   {
    "duration": 77,
    "start_time": "2024-07-16T06:19:53.450Z"
   },
   {
    "duration": 40,
    "start_time": "2024-07-16T06:19:58.066Z"
   },
   {
    "duration": 7,
    "start_time": "2024-07-16T06:30:06.926Z"
   },
   {
    "duration": 17141,
    "start_time": "2024-07-16T06:30:08.409Z"
   },
   {
    "duration": 7,
    "start_time": "2024-07-16T06:30:25.552Z"
   },
   {
    "duration": 9917,
    "start_time": "2024-07-16T06:31:04.406Z"
   },
   {
    "duration": 48,
    "start_time": "2024-07-16T06:31:14.325Z"
   },
   {
    "duration": 7,
    "start_time": "2024-07-16T06:31:14.374Z"
   },
   {
    "duration": 15,
    "start_time": "2024-07-16T06:31:14.383Z"
   },
   {
    "duration": 16,
    "start_time": "2024-07-16T06:31:14.399Z"
   },
   {
    "duration": 6,
    "start_time": "2024-07-16T06:31:14.416Z"
   },
   {
    "duration": 5,
    "start_time": "2024-07-16T06:31:14.423Z"
   },
   {
    "duration": 8,
    "start_time": "2024-07-16T06:31:14.429Z"
   },
   {
    "duration": 11,
    "start_time": "2024-07-16T06:31:14.438Z"
   },
   {
    "duration": 8,
    "start_time": "2024-07-16T06:31:14.451Z"
   },
   {
    "duration": 6,
    "start_time": "2024-07-16T06:31:14.461Z"
   },
   {
    "duration": 982,
    "start_time": "2024-07-16T06:31:14.469Z"
   },
   {
    "duration": 312,
    "start_time": "2024-07-16T06:31:15.452Z"
   },
   {
    "duration": 414,
    "start_time": "2024-07-16T06:31:15.765Z"
   },
   {
    "duration": 7,
    "start_time": "2024-07-16T06:31:16.180Z"
   },
   {
    "duration": 31,
    "start_time": "2024-07-16T06:31:16.188Z"
   },
   {
    "duration": 34,
    "start_time": "2024-07-16T06:31:16.221Z"
   },
   {
    "duration": 8,
    "start_time": "2024-07-16T06:31:16.257Z"
   },
   {
    "duration": 5,
    "start_time": "2024-07-16T06:31:16.266Z"
   },
   {
    "duration": 5,
    "start_time": "2024-07-16T06:31:16.272Z"
   },
   {
    "duration": 20,
    "start_time": "2024-07-16T06:31:16.279Z"
   },
   {
    "duration": 14,
    "start_time": "2024-07-16T06:31:16.300Z"
   },
   {
    "duration": 47628,
    "start_time": "2024-07-16T06:31:16.315Z"
   },
   {
    "duration": 8,
    "start_time": "2024-07-16T06:32:03.944Z"
   },
   {
    "duration": 52,
    "start_time": "2024-07-16T06:32:03.953Z"
   },
   {
    "duration": 10837,
    "start_time": "2024-07-16T06:34:16.777Z"
   },
   {
    "duration": 45,
    "start_time": "2024-07-16T06:34:27.616Z"
   },
   {
    "duration": 8,
    "start_time": "2024-07-16T06:34:27.663Z"
   },
   {
    "duration": 3,
    "start_time": "2024-07-16T06:34:27.672Z"
   },
   {
    "duration": 8,
    "start_time": "2024-07-16T06:34:27.678Z"
   },
   {
    "duration": 5,
    "start_time": "2024-07-16T06:34:27.687Z"
   },
   {
    "duration": 3,
    "start_time": "2024-07-16T06:34:27.693Z"
   },
   {
    "duration": 3,
    "start_time": "2024-07-16T06:34:27.701Z"
   },
   {
    "duration": 28,
    "start_time": "2024-07-16T06:34:27.705Z"
   },
   {
    "duration": 12,
    "start_time": "2024-07-16T06:34:27.734Z"
   },
   {
    "duration": 11,
    "start_time": "2024-07-16T06:34:27.748Z"
   },
   {
    "duration": 968,
    "start_time": "2024-07-16T06:34:27.760Z"
   },
   {
    "duration": 311,
    "start_time": "2024-07-16T06:34:28.729Z"
   },
   {
    "duration": 328,
    "start_time": "2024-07-16T06:34:29.043Z"
   },
   {
    "duration": 7,
    "start_time": "2024-07-16T06:34:29.372Z"
   },
   {
    "duration": 4,
    "start_time": "2024-07-16T06:34:29.380Z"
   },
   {
    "duration": 29,
    "start_time": "2024-07-16T06:34:29.385Z"
   },
   {
    "duration": 8,
    "start_time": "2024-07-16T06:34:29.415Z"
   },
   {
    "duration": 111,
    "start_time": "2024-07-16T06:34:29.424Z"
   },
   {
    "duration": 0,
    "start_time": "2024-07-16T06:34:29.536Z"
   },
   {
    "duration": 0,
    "start_time": "2024-07-16T06:34:29.537Z"
   },
   {
    "duration": 0,
    "start_time": "2024-07-16T06:34:29.539Z"
   },
   {
    "duration": 0,
    "start_time": "2024-07-16T06:34:29.539Z"
   },
   {
    "duration": 0,
    "start_time": "2024-07-16T06:34:29.540Z"
   },
   {
    "duration": 0,
    "start_time": "2024-07-16T06:34:29.541Z"
   },
   {
    "duration": 6037,
    "start_time": "2024-07-16T06:35:25.180Z"
   },
   {
    "duration": 0,
    "start_time": "2024-07-16T06:35:31.221Z"
   },
   {
    "duration": 0,
    "start_time": "2024-07-16T06:35:31.222Z"
   },
   {
    "duration": 0,
    "start_time": "2024-07-16T06:35:31.223Z"
   },
   {
    "duration": 0,
    "start_time": "2024-07-16T06:35:31.225Z"
   },
   {
    "duration": 0,
    "start_time": "2024-07-16T06:35:31.225Z"
   },
   {
    "duration": 0,
    "start_time": "2024-07-16T06:35:31.226Z"
   },
   {
    "duration": 0,
    "start_time": "2024-07-16T06:35:31.227Z"
   },
   {
    "duration": 0,
    "start_time": "2024-07-16T06:35:31.228Z"
   },
   {
    "duration": 0,
    "start_time": "2024-07-16T06:35:31.229Z"
   },
   {
    "duration": 0,
    "start_time": "2024-07-16T06:35:31.230Z"
   },
   {
    "duration": 0,
    "start_time": "2024-07-16T06:35:31.231Z"
   },
   {
    "duration": 0,
    "start_time": "2024-07-16T06:35:31.231Z"
   },
   {
    "duration": 0,
    "start_time": "2024-07-16T06:35:31.233Z"
   },
   {
    "duration": 0,
    "start_time": "2024-07-16T06:35:31.233Z"
   },
   {
    "duration": 0,
    "start_time": "2024-07-16T06:35:31.234Z"
   },
   {
    "duration": 0,
    "start_time": "2024-07-16T06:35:31.236Z"
   },
   {
    "duration": 0,
    "start_time": "2024-07-16T06:35:31.237Z"
   },
   {
    "duration": 0,
    "start_time": "2024-07-16T06:35:31.239Z"
   },
   {
    "duration": 0,
    "start_time": "2024-07-16T06:35:31.239Z"
   },
   {
    "duration": 0,
    "start_time": "2024-07-16T06:35:31.302Z"
   },
   {
    "duration": 0,
    "start_time": "2024-07-16T06:35:31.312Z"
   },
   {
    "duration": 0,
    "start_time": "2024-07-16T06:35:31.313Z"
   },
   {
    "duration": 0,
    "start_time": "2024-07-16T06:35:31.314Z"
   },
   {
    "duration": 0,
    "start_time": "2024-07-16T06:35:31.314Z"
   },
   {
    "duration": 11027,
    "start_time": "2024-07-16T06:35:40.012Z"
   },
   {
    "duration": 46,
    "start_time": "2024-07-16T06:35:51.041Z"
   },
   {
    "duration": 8,
    "start_time": "2024-07-16T06:35:51.088Z"
   },
   {
    "duration": 21,
    "start_time": "2024-07-16T06:35:51.097Z"
   },
   {
    "duration": 19,
    "start_time": "2024-07-16T06:35:51.119Z"
   },
   {
    "duration": 9,
    "start_time": "2024-07-16T06:35:51.139Z"
   },
   {
    "duration": 7,
    "start_time": "2024-07-16T06:35:51.149Z"
   },
   {
    "duration": 9,
    "start_time": "2024-07-16T06:35:51.157Z"
   },
   {
    "duration": 30,
    "start_time": "2024-07-16T06:35:51.167Z"
   },
   {
    "duration": 14,
    "start_time": "2024-07-16T06:35:51.199Z"
   },
   {
    "duration": 15,
    "start_time": "2024-07-16T06:35:51.215Z"
   },
   {
    "duration": 1046,
    "start_time": "2024-07-16T06:35:51.232Z"
   },
   {
    "duration": 321,
    "start_time": "2024-07-16T06:35:52.279Z"
   },
   {
    "duration": 322,
    "start_time": "2024-07-16T06:35:52.617Z"
   },
   {
    "duration": 7,
    "start_time": "2024-07-16T06:35:52.940Z"
   },
   {
    "duration": 6,
    "start_time": "2024-07-16T06:35:52.948Z"
   },
   {
    "duration": 21,
    "start_time": "2024-07-16T06:35:52.955Z"
   },
   {
    "duration": 13,
    "start_time": "2024-07-16T06:35:52.977Z"
   },
   {
    "duration": 24,
    "start_time": "2024-07-16T06:35:52.991Z"
   },
   {
    "duration": 4,
    "start_time": "2024-07-16T06:35:53.017Z"
   },
   {
    "duration": 107,
    "start_time": "2024-07-16T06:35:53.022Z"
   },
   {
    "duration": 0,
    "start_time": "2024-07-16T06:35:53.131Z"
   },
   {
    "duration": 0,
    "start_time": "2024-07-16T06:35:53.131Z"
   },
   {
    "duration": 0,
    "start_time": "2024-07-16T06:35:53.132Z"
   },
   {
    "duration": 0,
    "start_time": "2024-07-16T06:35:53.133Z"
   },
   {
    "duration": 11079,
    "start_time": "2024-07-16T06:36:09.141Z"
   },
   {
    "duration": 46,
    "start_time": "2024-07-16T06:36:20.222Z"
   },
   {
    "duration": 9,
    "start_time": "2024-07-16T06:36:20.271Z"
   },
   {
    "duration": 31,
    "start_time": "2024-07-16T06:36:20.282Z"
   },
   {
    "duration": 24,
    "start_time": "2024-07-16T06:36:20.314Z"
   },
   {
    "duration": 7,
    "start_time": "2024-07-16T06:36:20.339Z"
   },
   {
    "duration": 11,
    "start_time": "2024-07-16T06:36:20.347Z"
   },
   {
    "duration": 15,
    "start_time": "2024-07-16T06:36:20.359Z"
   },
   {
    "duration": 19,
    "start_time": "2024-07-16T06:36:20.375Z"
   },
   {
    "duration": 18,
    "start_time": "2024-07-16T06:36:20.395Z"
   },
   {
    "duration": 6,
    "start_time": "2024-07-16T06:36:20.415Z"
   },
   {
    "duration": 1091,
    "start_time": "2024-07-16T06:36:20.422Z"
   },
   {
    "duration": 303,
    "start_time": "2024-07-16T06:36:21.516Z"
   },
   {
    "duration": 329,
    "start_time": "2024-07-16T06:36:21.820Z"
   },
   {
    "duration": 6,
    "start_time": "2024-07-16T06:36:22.151Z"
   },
   {
    "duration": 7,
    "start_time": "2024-07-16T06:36:22.158Z"
   },
   {
    "duration": 52,
    "start_time": "2024-07-16T06:36:22.166Z"
   },
   {
    "duration": 8,
    "start_time": "2024-07-16T06:36:22.219Z"
   },
   {
    "duration": 2,
    "start_time": "2024-07-16T06:36:22.228Z"
   },
   {
    "duration": 4,
    "start_time": "2024-07-16T06:36:22.232Z"
   },
   {
    "duration": 6,
    "start_time": "2024-07-16T06:36:22.237Z"
   },
   {
    "duration": 11,
    "start_time": "2024-07-16T06:36:22.244Z"
   },
   {
    "duration": 221969,
    "start_time": "2024-07-16T06:36:22.256Z"
   },
   {
    "duration": 0,
    "start_time": "2024-07-16T06:40:04.227Z"
   },
   {
    "duration": 0,
    "start_time": "2024-07-16T06:40:04.228Z"
   },
   {
    "duration": 11301,
    "start_time": "2024-07-16T06:40:36.679Z"
   },
   {
    "duration": 51,
    "start_time": "2024-07-16T06:40:47.982Z"
   },
   {
    "duration": 9,
    "start_time": "2024-07-16T06:40:48.035Z"
   },
   {
    "duration": 4,
    "start_time": "2024-07-16T06:40:48.045Z"
   },
   {
    "duration": 13,
    "start_time": "2024-07-16T06:40:48.050Z"
   },
   {
    "duration": 4,
    "start_time": "2024-07-16T06:40:48.065Z"
   },
   {
    "duration": 13,
    "start_time": "2024-07-16T06:40:48.071Z"
   },
   {
    "duration": 26,
    "start_time": "2024-07-16T06:40:48.085Z"
   },
   {
    "duration": 13,
    "start_time": "2024-07-16T06:40:48.113Z"
   },
   {
    "duration": 9,
    "start_time": "2024-07-16T06:40:48.127Z"
   },
   {
    "duration": 5,
    "start_time": "2024-07-16T06:40:48.137Z"
   },
   {
    "duration": 1005,
    "start_time": "2024-07-16T06:40:48.143Z"
   },
   {
    "duration": 328,
    "start_time": "2024-07-16T06:40:49.149Z"
   },
   {
    "duration": 339,
    "start_time": "2024-07-16T06:40:49.479Z"
   },
   {
    "duration": 8,
    "start_time": "2024-07-16T06:40:49.820Z"
   },
   {
    "duration": 10,
    "start_time": "2024-07-16T06:40:49.829Z"
   },
   {
    "duration": 23,
    "start_time": "2024-07-16T06:40:49.840Z"
   },
   {
    "duration": 7,
    "start_time": "2024-07-16T06:40:49.865Z"
   },
   {
    "duration": 3,
    "start_time": "2024-07-16T06:40:49.873Z"
   },
   {
    "duration": 4,
    "start_time": "2024-07-16T06:40:49.877Z"
   },
   {
    "duration": 30,
    "start_time": "2024-07-16T06:40:49.882Z"
   },
   {
    "duration": 12,
    "start_time": "2024-07-16T06:40:49.913Z"
   },
   {
    "duration": 97597,
    "start_time": "2024-07-16T06:40:49.926Z"
   },
   {
    "duration": 0,
    "start_time": "2024-07-16T06:42:27.525Z"
   },
   {
    "duration": 0,
    "start_time": "2024-07-16T06:42:27.527Z"
   },
   {
    "duration": 9933,
    "start_time": "2024-07-16T06:43:49.914Z"
   },
   {
    "duration": 7,
    "start_time": "2024-07-16T06:49:10.748Z"
   },
   {
    "duration": 217885,
    "start_time": "2024-07-16T06:49:11.268Z"
   },
   {
    "duration": 8,
    "start_time": "2024-07-16T06:53:18.720Z"
   },
   {
    "duration": 13,
    "start_time": "2024-07-16T06:53:21.665Z"
   },
   {
    "duration": 9,
    "start_time": "2024-07-16T06:53:31.264Z"
   },
   {
    "duration": 272987,
    "start_time": "2024-07-16T06:53:31.651Z"
   },
   {
    "duration": 8,
    "start_time": "2024-07-16T06:58:04.639Z"
   },
   {
    "duration": 63,
    "start_time": "2024-07-16T11:38:50.117Z"
   },
   {
    "duration": 19011,
    "start_time": "2024-07-16T11:40:28.202Z"
   },
   {
    "duration": 96,
    "start_time": "2024-07-16T11:40:47.215Z"
   },
   {
    "duration": 11,
    "start_time": "2024-07-16T11:40:47.312Z"
   },
   {
    "duration": 4,
    "start_time": "2024-07-16T11:40:47.325Z"
   },
   {
    "duration": 12,
    "start_time": "2024-07-16T11:40:47.331Z"
   },
   {
    "duration": 6,
    "start_time": "2024-07-16T11:40:47.345Z"
   },
   {
    "duration": 5,
    "start_time": "2024-07-16T11:40:47.352Z"
   },
   {
    "duration": 4,
    "start_time": "2024-07-16T11:40:47.359Z"
   },
   {
    "duration": 10,
    "start_time": "2024-07-16T11:40:47.365Z"
   },
   {
    "duration": 11,
    "start_time": "2024-07-16T11:40:47.378Z"
   },
   {
    "duration": 10,
    "start_time": "2024-07-16T11:40:47.390Z"
   },
   {
    "duration": 1250,
    "start_time": "2024-07-16T11:40:47.402Z"
   },
   {
    "duration": 314,
    "start_time": "2024-07-16T11:40:48.653Z"
   },
   {
    "duration": 0,
    "start_time": "2024-07-16T11:40:48.969Z"
   },
   {
    "duration": 0,
    "start_time": "2024-07-16T11:40:48.971Z"
   },
   {
    "duration": 11,
    "start_time": "2024-07-16T11:40:58.036Z"
   },
   {
    "duration": 3,
    "start_time": "2024-07-16T11:41:05.289Z"
   },
   {
    "duration": 11,
    "start_time": "2024-07-16T11:41:15.923Z"
   },
   {
    "duration": 10,
    "start_time": "2024-07-16T11:42:25.444Z"
   },
   {
    "duration": 541,
    "start_time": "2024-07-16T11:42:53.374Z"
   },
   {
    "duration": 405,
    "start_time": "2024-07-16T11:43:06.382Z"
   },
   {
    "duration": 456,
    "start_time": "2024-07-16T11:43:09.689Z"
   },
   {
    "duration": 437,
    "start_time": "2024-07-16T11:43:14.324Z"
   },
   {
    "duration": 311,
    "start_time": "2024-07-16T11:43:26.117Z"
   },
   {
    "duration": 235,
    "start_time": "2024-07-16T11:43:33.309Z"
   },
   {
    "duration": 257,
    "start_time": "2024-07-16T11:43:38.313Z"
   },
   {
    "duration": 301,
    "start_time": "2024-07-16T11:43:42.200Z"
   },
   {
    "duration": 240,
    "start_time": "2024-07-16T11:43:45.309Z"
   },
   {
    "duration": 330,
    "start_time": "2024-07-16T11:43:49.030Z"
   },
   {
    "duration": 268,
    "start_time": "2024-07-16T11:43:53.231Z"
   },
   {
    "duration": 416,
    "start_time": "2024-07-16T11:43:56.057Z"
   },
   {
    "duration": 387,
    "start_time": "2024-07-16T11:44:27.263Z"
   },
   {
    "duration": 10093,
    "start_time": "2024-07-16T11:57:38.506Z"
   },
   {
    "duration": 11061,
    "start_time": "2024-07-16T11:58:17.858Z"
   },
   {
    "duration": 50,
    "start_time": "2024-07-16T11:58:28.921Z"
   },
   {
    "duration": 8,
    "start_time": "2024-07-16T11:58:28.972Z"
   },
   {
    "duration": 6,
    "start_time": "2024-07-16T11:58:28.982Z"
   },
   {
    "duration": 10,
    "start_time": "2024-07-16T11:58:28.990Z"
   },
   {
    "duration": 5,
    "start_time": "2024-07-16T11:58:29.001Z"
   },
   {
    "duration": 19,
    "start_time": "2024-07-16T11:58:29.007Z"
   },
   {
    "duration": 5,
    "start_time": "2024-07-16T11:58:29.027Z"
   },
   {
    "duration": 14,
    "start_time": "2024-07-16T11:58:29.033Z"
   },
   {
    "duration": 13,
    "start_time": "2024-07-16T11:58:29.049Z"
   },
   {
    "duration": 6,
    "start_time": "2024-07-16T11:58:29.063Z"
   },
   {
    "duration": 1005,
    "start_time": "2024-07-16T11:58:29.070Z"
   },
   {
    "duration": 362,
    "start_time": "2024-07-16T11:58:30.076Z"
   },
   {
    "duration": 410,
    "start_time": "2024-07-16T11:58:30.440Z"
   },
   {
    "duration": 11,
    "start_time": "2024-07-16T11:58:30.852Z"
   },
   {
    "duration": 0,
    "start_time": "2024-07-16T11:58:30.864Z"
   },
   {
    "duration": 0,
    "start_time": "2024-07-16T11:58:30.865Z"
   },
   {
    "duration": 0,
    "start_time": "2024-07-16T11:58:30.866Z"
   },
   {
    "duration": 0,
    "start_time": "2024-07-16T11:58:30.867Z"
   },
   {
    "duration": 0,
    "start_time": "2024-07-16T11:58:30.868Z"
   },
   {
    "duration": 0,
    "start_time": "2024-07-16T11:58:30.869Z"
   },
   {
    "duration": 0,
    "start_time": "2024-07-16T11:58:30.870Z"
   },
   {
    "duration": 0,
    "start_time": "2024-07-16T11:58:30.871Z"
   },
   {
    "duration": 0,
    "start_time": "2024-07-16T11:58:30.872Z"
   },
   {
    "duration": 0,
    "start_time": "2024-07-16T11:58:30.873Z"
   },
   {
    "duration": 326,
    "start_time": "2024-07-16T11:58:50.420Z"
   },
   {
    "duration": 7,
    "start_time": "2024-07-16T11:58:53.418Z"
   },
   {
    "duration": 4,
    "start_time": "2024-07-16T11:58:54.290Z"
   },
   {
    "duration": 32,
    "start_time": "2024-07-16T11:58:56.516Z"
   },
   {
    "duration": 9,
    "start_time": "2024-07-16T11:58:59.923Z"
   },
   {
    "duration": 3,
    "start_time": "2024-07-16T11:59:03.422Z"
   },
   {
    "duration": 3,
    "start_time": "2024-07-16T11:59:04.258Z"
   },
   {
    "duration": 3,
    "start_time": "2024-07-16T11:59:04.756Z"
   },
   {
    "duration": 7,
    "start_time": "2024-07-16T11:59:05.238Z"
   },
   {
    "duration": 6079,
    "start_time": "2024-07-16T11:59:06.638Z"
   },
   {
    "duration": 8,
    "start_time": "2024-07-16T11:59:12.757Z"
   },
   {
    "duration": 7,
    "start_time": "2024-07-16T11:59:56.483Z"
   },
   {
    "duration": 14315,
    "start_time": "2024-07-16T11:59:57.295Z"
   },
   {
    "duration": 7,
    "start_time": "2024-07-16T12:00:11.612Z"
   },
   {
    "duration": 17144,
    "start_time": "2024-07-16T12:00:39.613Z"
   },
   {
    "duration": 4,
    "start_time": "2024-07-16T12:03:19.850Z"
   },
   {
    "duration": 7,
    "start_time": "2024-07-16T12:03:23.774Z"
   },
   {
    "duration": 7,
    "start_time": "2024-07-16T12:03:25.812Z"
   },
   {
    "duration": 10067,
    "start_time": "2024-07-16T12:03:30.493Z"
   },
   {
    "duration": 48,
    "start_time": "2024-07-16T12:03:40.562Z"
   },
   {
    "duration": 7,
    "start_time": "2024-07-16T12:03:40.612Z"
   },
   {
    "duration": 4,
    "start_time": "2024-07-16T12:03:40.621Z"
   },
   {
    "duration": 9,
    "start_time": "2024-07-16T12:03:40.626Z"
   },
   {
    "duration": 5,
    "start_time": "2024-07-16T12:03:40.637Z"
   },
   {
    "duration": 8,
    "start_time": "2024-07-16T12:03:40.644Z"
   },
   {
    "duration": 6,
    "start_time": "2024-07-16T12:03:40.653Z"
   },
   {
    "duration": 13,
    "start_time": "2024-07-16T12:03:40.660Z"
   },
   {
    "duration": 8,
    "start_time": "2024-07-16T12:03:40.676Z"
   },
   {
    "duration": 10,
    "start_time": "2024-07-16T12:03:40.685Z"
   },
   {
    "duration": 999,
    "start_time": "2024-07-16T12:03:40.696Z"
   },
   {
    "duration": 360,
    "start_time": "2024-07-16T12:03:41.697Z"
   },
   {
    "duration": 408,
    "start_time": "2024-07-16T12:03:42.059Z"
   },
   {
    "duration": 318,
    "start_time": "2024-07-16T12:03:42.468Z"
   },
   {
    "duration": 7,
    "start_time": "2024-07-16T12:03:42.787Z"
   },
   {
    "duration": 4,
    "start_time": "2024-07-16T12:03:42.795Z"
   },
   {
    "duration": 35,
    "start_time": "2024-07-16T12:03:42.800Z"
   },
   {
    "duration": 23,
    "start_time": "2024-07-16T12:03:42.836Z"
   },
   {
    "duration": 3,
    "start_time": "2024-07-16T12:03:42.860Z"
   },
   {
    "duration": 23,
    "start_time": "2024-07-16T12:03:42.864Z"
   },
   {
    "duration": 10,
    "start_time": "2024-07-16T12:03:42.888Z"
   },
   {
    "duration": 14,
    "start_time": "2024-07-16T12:03:42.899Z"
   },
   {
    "duration": 14200,
    "start_time": "2024-07-16T12:03:42.914Z"
   },
   {
    "duration": 10,
    "start_time": "2024-07-16T12:03:57.115Z"
   },
   {
    "duration": 37,
    "start_time": "2024-07-16T12:03:57.126Z"
   },
   {
    "duration": 13,
    "start_time": "2024-07-16T12:03:57.165Z"
   },
   {
    "duration": 2,
    "start_time": "2024-07-16T12:04:17.622Z"
   },
   {
    "duration": 9,
    "start_time": "2024-07-16T12:04:21.507Z"
   },
   {
    "duration": 4,
    "start_time": "2024-07-16T12:04:39.749Z"
   },
   {
    "duration": 5,
    "start_time": "2024-07-16T12:04:45.555Z"
   },
   {
    "duration": 6,
    "start_time": "2024-07-16T12:05:12.022Z"
   },
   {
    "duration": 5,
    "start_time": "2024-07-16T12:05:25.879Z"
   },
   {
    "duration": 6,
    "start_time": "2024-07-16T12:06:27.016Z"
   },
   {
    "duration": 6,
    "start_time": "2024-07-16T12:06:27.624Z"
   },
   {
    "duration": 5,
    "start_time": "2024-07-16T12:06:28.258Z"
   },
   {
    "duration": 10,
    "start_time": "2024-07-16T12:06:34.162Z"
   },
   {
    "duration": 9,
    "start_time": "2024-07-16T12:06:52.105Z"
   },
   {
    "duration": 11,
    "start_time": "2024-07-16T12:06:54.136Z"
   },
   {
    "duration": 9,
    "start_time": "2024-07-16T12:06:59.523Z"
   },
   {
    "duration": 9,
    "start_time": "2024-07-16T12:07:50.512Z"
   },
   {
    "duration": 13,
    "start_time": "2024-07-16T12:08:01.748Z"
   },
   {
    "duration": 67,
    "start_time": "2024-07-16T12:08:56.039Z"
   },
   {
    "duration": 12,
    "start_time": "2024-07-16T12:09:03.921Z"
   },
   {
    "duration": 12,
    "start_time": "2024-07-16T12:09:13.648Z"
   },
   {
    "duration": 10,
    "start_time": "2024-07-16T12:09:18.179Z"
   },
   {
    "duration": 7,
    "start_time": "2024-07-16T12:09:33.465Z"
   },
   {
    "duration": 8,
    "start_time": "2024-07-16T12:09:42.154Z"
   },
   {
    "duration": 9,
    "start_time": "2024-07-16T12:12:12.813Z"
   },
   {
    "duration": 10,
    "start_time": "2024-07-16T12:12:15.765Z"
   },
   {
    "duration": 10,
    "start_time": "2024-07-16T12:12:26.298Z"
   },
   {
    "duration": 11,
    "start_time": "2024-07-16T12:13:22.844Z"
   },
   {
    "duration": 9,
    "start_time": "2024-07-16T12:13:42.786Z"
   },
   {
    "duration": 8,
    "start_time": "2024-07-16T12:13:45.565Z"
   },
   {
    "duration": 32,
    "start_time": "2024-07-16T12:13:58.644Z"
   },
   {
    "duration": 5,
    "start_time": "2024-07-16T12:13:59.494Z"
   },
   {
    "duration": 7,
    "start_time": "2024-07-16T12:14:00.116Z"
   },
   {
    "duration": 8,
    "start_time": "2024-07-16T12:14:01.595Z"
   },
   {
    "duration": 408,
    "start_time": "2024-07-16T12:15:33.426Z"
   },
   {
    "duration": 243,
    "start_time": "2024-07-16T12:16:47.305Z"
   },
   {
    "duration": 243,
    "start_time": "2024-07-16T12:17:11.605Z"
   },
   {
    "duration": 253,
    "start_time": "2024-07-16T12:17:15.952Z"
   },
   {
    "duration": 241,
    "start_time": "2024-07-16T12:17:22.792Z"
   },
   {
    "duration": 260,
    "start_time": "2024-07-16T12:17:29.444Z"
   },
   {
    "duration": 280,
    "start_time": "2024-07-16T12:17:41.781Z"
   },
   {
    "duration": 239,
    "start_time": "2024-07-16T12:17:47.116Z"
   },
   {
    "duration": 233,
    "start_time": "2024-07-16T12:17:58.930Z"
   },
   {
    "duration": 1462,
    "start_time": "2024-07-16T12:18:11.685Z"
   },
   {
    "duration": 11123,
    "start_time": "2024-07-16T12:19:05.276Z"
   },
   {
    "duration": 45,
    "start_time": "2024-07-16T12:19:16.403Z"
   },
   {
    "duration": 9,
    "start_time": "2024-07-16T12:19:16.450Z"
   },
   {
    "duration": 8,
    "start_time": "2024-07-16T12:19:16.460Z"
   },
   {
    "duration": 10,
    "start_time": "2024-07-16T12:19:16.469Z"
   },
   {
    "duration": 8,
    "start_time": "2024-07-16T12:19:16.480Z"
   },
   {
    "duration": 13,
    "start_time": "2024-07-16T12:19:16.489Z"
   },
   {
    "duration": 18,
    "start_time": "2024-07-16T12:19:16.503Z"
   },
   {
    "duration": 19,
    "start_time": "2024-07-16T12:19:16.523Z"
   },
   {
    "duration": 11,
    "start_time": "2024-07-16T12:19:16.543Z"
   },
   {
    "duration": 7,
    "start_time": "2024-07-16T12:19:16.556Z"
   },
   {
    "duration": 980,
    "start_time": "2024-07-16T12:19:16.564Z"
   },
   {
    "duration": 323,
    "start_time": "2024-07-16T12:19:17.545Z"
   },
   {
    "duration": 305,
    "start_time": "2024-07-16T12:19:17.870Z"
   },
   {
    "duration": 353,
    "start_time": "2024-07-16T12:19:18.176Z"
   },
   {
    "duration": 7,
    "start_time": "2024-07-16T12:19:18.530Z"
   },
   {
    "duration": 4,
    "start_time": "2024-07-16T12:19:18.539Z"
   },
   {
    "duration": 43,
    "start_time": "2024-07-16T12:19:18.544Z"
   },
   {
    "duration": 10,
    "start_time": "2024-07-16T12:19:18.588Z"
   },
   {
    "duration": 2,
    "start_time": "2024-07-16T12:19:18.600Z"
   },
   {
    "duration": 4,
    "start_time": "2024-07-16T12:19:18.604Z"
   },
   {
    "duration": 4,
    "start_time": "2024-07-16T12:19:18.609Z"
   },
   {
    "duration": 11,
    "start_time": "2024-07-16T12:19:18.614Z"
   },
   {
    "duration": 41635,
    "start_time": "2024-07-16T12:19:18.626Z"
   },
   {
    "duration": 0,
    "start_time": "2024-07-16T12:20:00.263Z"
   },
   {
    "duration": 0,
    "start_time": "2024-07-16T12:20:00.264Z"
   },
   {
    "duration": 0,
    "start_time": "2024-07-16T12:20:00.265Z"
   },
   {
    "duration": 0,
    "start_time": "2024-07-16T12:20:00.266Z"
   },
   {
    "duration": 0,
    "start_time": "2024-07-16T12:20:00.267Z"
   },
   {
    "duration": 0,
    "start_time": "2024-07-16T12:20:00.268Z"
   },
   {
    "duration": 11153,
    "start_time": "2024-07-16T12:20:10.738Z"
   },
   {
    "duration": 46,
    "start_time": "2024-07-16T12:20:21.892Z"
   },
   {
    "duration": 8,
    "start_time": "2024-07-16T12:20:21.940Z"
   },
   {
    "duration": 7,
    "start_time": "2024-07-16T12:20:21.949Z"
   },
   {
    "duration": 18,
    "start_time": "2024-07-16T12:20:21.958Z"
   },
   {
    "duration": 7,
    "start_time": "2024-07-16T12:20:21.977Z"
   },
   {
    "duration": 20,
    "start_time": "2024-07-16T12:20:21.985Z"
   },
   {
    "duration": 6,
    "start_time": "2024-07-16T12:20:22.006Z"
   },
   {
    "duration": 8,
    "start_time": "2024-07-16T12:20:22.013Z"
   },
   {
    "duration": 9,
    "start_time": "2024-07-16T12:20:22.022Z"
   },
   {
    "duration": 15,
    "start_time": "2024-07-16T12:20:22.032Z"
   },
   {
    "duration": 968,
    "start_time": "2024-07-16T12:20:22.048Z"
   },
   {
    "duration": 323,
    "start_time": "2024-07-16T12:20:23.017Z"
   },
   {
    "duration": 312,
    "start_time": "2024-07-16T12:20:23.342Z"
   },
   {
    "duration": 322,
    "start_time": "2024-07-16T12:20:23.657Z"
   },
   {
    "duration": 6,
    "start_time": "2024-07-16T12:20:23.981Z"
   },
   {
    "duration": 3,
    "start_time": "2024-07-16T12:20:23.989Z"
   },
   {
    "duration": 33,
    "start_time": "2024-07-16T12:20:23.993Z"
   },
   {
    "duration": 9,
    "start_time": "2024-07-16T12:20:24.028Z"
   },
   {
    "duration": 19,
    "start_time": "2024-07-16T12:20:24.038Z"
   },
   {
    "duration": 2,
    "start_time": "2024-07-16T12:20:24.058Z"
   },
   {
    "duration": 4,
    "start_time": "2024-07-16T12:20:24.061Z"
   },
   {
    "duration": 7,
    "start_time": "2024-07-16T12:20:24.066Z"
   },
   {
    "duration": 14825,
    "start_time": "2024-07-16T12:20:24.074Z"
   },
   {
    "duration": 8,
    "start_time": "2024-07-16T12:20:38.900Z"
   },
   {
    "duration": 9,
    "start_time": "2024-07-16T12:20:38.910Z"
   },
   {
    "duration": 8,
    "start_time": "2024-07-16T12:20:38.958Z"
   },
   {
    "duration": 20,
    "start_time": "2024-07-16T12:20:38.967Z"
   },
   {
    "duration": 17,
    "start_time": "2024-07-16T12:20:38.988Z"
   },
   {
    "duration": 251,
    "start_time": "2024-07-16T12:20:39.006Z"
   },
   {
    "duration": 11128,
    "start_time": "2024-07-16T12:22:38.371Z"
   },
   {
    "duration": 47,
    "start_time": "2024-07-16T12:22:49.501Z"
   },
   {
    "duration": 9,
    "start_time": "2024-07-16T12:22:49.549Z"
   },
   {
    "duration": 13,
    "start_time": "2024-07-16T12:22:49.559Z"
   },
   {
    "duration": 17,
    "start_time": "2024-07-16T12:22:49.573Z"
   },
   {
    "duration": 5,
    "start_time": "2024-07-16T12:22:49.591Z"
   },
   {
    "duration": 7,
    "start_time": "2024-07-16T12:22:49.597Z"
   },
   {
    "duration": 38,
    "start_time": "2024-07-16T12:22:49.605Z"
   },
   {
    "duration": 45,
    "start_time": "2024-07-16T12:22:49.644Z"
   },
   {
    "duration": 10,
    "start_time": "2024-07-16T12:22:49.691Z"
   },
   {
    "duration": 6,
    "start_time": "2024-07-16T12:22:49.702Z"
   },
   {
    "duration": 1027,
    "start_time": "2024-07-16T12:22:49.709Z"
   },
   {
    "duration": 310,
    "start_time": "2024-07-16T12:22:50.737Z"
   },
   {
    "duration": 302,
    "start_time": "2024-07-16T12:22:51.048Z"
   },
   {
    "duration": 317,
    "start_time": "2024-07-16T12:22:51.357Z"
   },
   {
    "duration": 6,
    "start_time": "2024-07-16T12:22:51.675Z"
   },
   {
    "duration": 15,
    "start_time": "2024-07-16T12:22:51.683Z"
   },
   {
    "duration": 40,
    "start_time": "2024-07-16T12:22:51.699Z"
   },
   {
    "duration": 10,
    "start_time": "2024-07-16T12:22:51.741Z"
   },
   {
    "duration": 3,
    "start_time": "2024-07-16T12:22:51.752Z"
   },
   {
    "duration": 20,
    "start_time": "2024-07-16T12:22:51.756Z"
   },
   {
    "duration": 13,
    "start_time": "2024-07-16T12:22:51.777Z"
   },
   {
    "duration": 25,
    "start_time": "2024-07-16T12:22:51.791Z"
   },
   {
    "duration": 15894,
    "start_time": "2024-07-16T12:22:51.817Z"
   },
   {
    "duration": 9,
    "start_time": "2024-07-16T12:23:07.713Z"
   },
   {
    "duration": 37,
    "start_time": "2024-07-16T12:23:07.723Z"
   },
   {
    "duration": 19,
    "start_time": "2024-07-16T12:23:07.762Z"
   },
   {
    "duration": 6,
    "start_time": "2024-07-16T12:23:07.782Z"
   },
   {
    "duration": 15,
    "start_time": "2024-07-16T12:23:07.790Z"
   },
   {
    "duration": 286,
    "start_time": "2024-07-16T12:23:07.806Z"
   }
  ],
  "kernelspec": {
   "display_name": "Python 3 (ipykernel)",
   "language": "python",
   "name": "python3"
  },
  "language_info": {
   "codemirror_mode": {
    "name": "ipython",
    "version": 3
   },
   "file_extension": ".py",
   "mimetype": "text/x-python",
   "name": "python",
   "nbconvert_exporter": "python",
   "pygments_lexer": "ipython3",
   "version": "3.11.5"
  },
  "toc": {
   "base_numbering": 1,
   "nav_menu": {},
   "number_sections": true,
   "sideBar": true,
   "skip_h1_title": true,
   "title_cell": "Содержание",
   "title_sidebar": "Contents",
   "toc_cell": true,
   "toc_position": {
    "height": "calc(100% - 180px)",
    "left": "10px",
    "top": "150px",
    "width": "220.391px"
   },
   "toc_section_display": true,
   "toc_window_display": true
  }
 },
 "nbformat": 4,
 "nbformat_minor": 2
}
